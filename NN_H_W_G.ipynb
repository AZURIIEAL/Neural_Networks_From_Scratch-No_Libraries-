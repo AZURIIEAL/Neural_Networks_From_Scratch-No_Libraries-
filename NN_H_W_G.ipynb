{
 "cells": [
  {
   "cell_type": "code",
   "execution_count": 36,
   "id": "c728cde1",
   "metadata": {},
   "outputs": [],
   "source": [
    "#importing the required dependencies,numpy for  linear algebra,pandas for working with data and matplotlib for visualizations.\n",
    "import numpy as np\n",
    "import pandas as pd"
   ]
  },
  {
   "cell_type": "code",
   "execution_count": 37,
   "id": "dc4fbba2",
   "metadata": {},
   "outputs": [],
   "source": [
    "data = pd.read_csv('MNIST_data/weight-height.csv') #load the MNIST data."
   ]
  },
  {
   "cell_type": "code",
   "execution_count": 38,
   "id": "713471c8",
   "metadata": {
    "scrolled": true
   },
   "outputs": [
    {
     "data": {
      "text/html": [
       "<div>\n",
       "<style scoped>\n",
       "    .dataframe tbody tr th:only-of-type {\n",
       "        vertical-align: middle;\n",
       "    }\n",
       "\n",
       "    .dataframe tbody tr th {\n",
       "        vertical-align: top;\n",
       "    }\n",
       "\n",
       "    .dataframe thead th {\n",
       "        text-align: right;\n",
       "    }\n",
       "</style>\n",
       "<table border=\"1\" class=\"dataframe\">\n",
       "  <thead>\n",
       "    <tr style=\"text-align: right;\">\n",
       "      <th></th>\n",
       "      <th>Gender</th>\n",
       "      <th>Height</th>\n",
       "      <th>Weight</th>\n",
       "    </tr>\n",
       "  </thead>\n",
       "  <tbody>\n",
       "    <tr>\n",
       "      <th>0</th>\n",
       "      <td>Male</td>\n",
       "      <td>73.847017</td>\n",
       "      <td>241.893563</td>\n",
       "    </tr>\n",
       "    <tr>\n",
       "      <th>1</th>\n",
       "      <td>Male</td>\n",
       "      <td>68.781904</td>\n",
       "      <td>162.310473</td>\n",
       "    </tr>\n",
       "    <tr>\n",
       "      <th>2</th>\n",
       "      <td>Male</td>\n",
       "      <td>74.110105</td>\n",
       "      <td>212.740856</td>\n",
       "    </tr>\n",
       "    <tr>\n",
       "      <th>3</th>\n",
       "      <td>Male</td>\n",
       "      <td>71.730978</td>\n",
       "      <td>220.042470</td>\n",
       "    </tr>\n",
       "    <tr>\n",
       "      <th>4</th>\n",
       "      <td>Male</td>\n",
       "      <td>69.881796</td>\n",
       "      <td>206.349801</td>\n",
       "    </tr>\n",
       "  </tbody>\n",
       "</table>\n",
       "</div>"
      ],
      "text/plain": [
       "  Gender     Height      Weight\n",
       "0   Male  73.847017  241.893563\n",
       "1   Male  68.781904  162.310473\n",
       "2   Male  74.110105  212.740856\n",
       "3   Male  71.730978  220.042470\n",
       "4   Male  69.881796  206.349801"
      ]
     },
     "execution_count": 38,
     "metadata": {},
     "output_type": "execute_result"
    }
   ],
   "source": [
    "data.head() #Getting an overview of how the dataframe looks."
   ]
  },
  {
   "cell_type": "code",
   "execution_count": 39,
   "id": "ecf97392",
   "metadata": {},
   "outputs": [
    {
     "data": {
      "text/html": [
       "<div>\n",
       "<style scoped>\n",
       "    .dataframe tbody tr th:only-of-type {\n",
       "        vertical-align: middle;\n",
       "    }\n",
       "\n",
       "    .dataframe tbody tr th {\n",
       "        vertical-align: top;\n",
       "    }\n",
       "\n",
       "    .dataframe thead th {\n",
       "        text-align: right;\n",
       "    }\n",
       "</style>\n",
       "<table border=\"1\" class=\"dataframe\">\n",
       "  <thead>\n",
       "    <tr style=\"text-align: right;\">\n",
       "      <th></th>\n",
       "      <th>Gender</th>\n",
       "      <th>Height</th>\n",
       "      <th>Weight</th>\n",
       "    </tr>\n",
       "  </thead>\n",
       "  <tbody>\n",
       "    <tr>\n",
       "      <th>9995</th>\n",
       "      <td>Female</td>\n",
       "      <td>66.172652</td>\n",
       "      <td>136.777454</td>\n",
       "    </tr>\n",
       "    <tr>\n",
       "      <th>9996</th>\n",
       "      <td>Female</td>\n",
       "      <td>67.067155</td>\n",
       "      <td>170.867906</td>\n",
       "    </tr>\n",
       "    <tr>\n",
       "      <th>9997</th>\n",
       "      <td>Female</td>\n",
       "      <td>63.867992</td>\n",
       "      <td>128.475319</td>\n",
       "    </tr>\n",
       "    <tr>\n",
       "      <th>9998</th>\n",
       "      <td>Female</td>\n",
       "      <td>69.034243</td>\n",
       "      <td>163.852461</td>\n",
       "    </tr>\n",
       "    <tr>\n",
       "      <th>9999</th>\n",
       "      <td>Female</td>\n",
       "      <td>61.944246</td>\n",
       "      <td>113.649103</td>\n",
       "    </tr>\n",
       "  </tbody>\n",
       "</table>\n",
       "</div>"
      ],
      "text/plain": [
       "      Gender     Height      Weight\n",
       "9995  Female  66.172652  136.777454\n",
       "9996  Female  67.067155  170.867906\n",
       "9997  Female  63.867992  128.475319\n",
       "9998  Female  69.034243  163.852461\n",
       "9999  Female  61.944246  113.649103"
      ]
     },
     "execution_count": 39,
     "metadata": {},
     "output_type": "execute_result"
    }
   ],
   "source": [
    "data.tail()"
   ]
  },
  {
   "cell_type": "code",
   "execution_count": 40,
   "id": "c3cfed38",
   "metadata": {},
   "outputs": [
    {
     "data": {
      "text/plain": [
       "(10000, 3)"
      ]
     },
     "execution_count": 40,
     "metadata": {},
     "output_type": "execute_result"
    }
   ],
   "source": [
    "data.shape"
   ]
  },
  {
   "cell_type": "code",
   "execution_count": 41,
   "id": "02fc8bce",
   "metadata": {},
   "outputs": [
    {
     "data": {
      "text/html": [
       "<div>\n",
       "<style scoped>\n",
       "    .dataframe tbody tr th:only-of-type {\n",
       "        vertical-align: middle;\n",
       "    }\n",
       "\n",
       "    .dataframe tbody tr th {\n",
       "        vertical-align: top;\n",
       "    }\n",
       "\n",
       "    .dataframe thead th {\n",
       "        text-align: right;\n",
       "    }\n",
       "</style>\n",
       "<table border=\"1\" class=\"dataframe\">\n",
       "  <thead>\n",
       "    <tr style=\"text-align: right;\">\n",
       "      <th></th>\n",
       "      <th>Height</th>\n",
       "      <th>Weight</th>\n",
       "    </tr>\n",
       "  </thead>\n",
       "  <tbody>\n",
       "    <tr>\n",
       "      <th>count</th>\n",
       "      <td>10000.000000</td>\n",
       "      <td>10000.000000</td>\n",
       "    </tr>\n",
       "    <tr>\n",
       "      <th>mean</th>\n",
       "      <td>66.367560</td>\n",
       "      <td>161.440357</td>\n",
       "    </tr>\n",
       "    <tr>\n",
       "      <th>std</th>\n",
       "      <td>3.847528</td>\n",
       "      <td>32.108439</td>\n",
       "    </tr>\n",
       "    <tr>\n",
       "      <th>min</th>\n",
       "      <td>54.263133</td>\n",
       "      <td>64.700127</td>\n",
       "    </tr>\n",
       "    <tr>\n",
       "      <th>25%</th>\n",
       "      <td>63.505620</td>\n",
       "      <td>135.818051</td>\n",
       "    </tr>\n",
       "    <tr>\n",
       "      <th>50%</th>\n",
       "      <td>66.318070</td>\n",
       "      <td>161.212928</td>\n",
       "    </tr>\n",
       "    <tr>\n",
       "      <th>75%</th>\n",
       "      <td>69.174262</td>\n",
       "      <td>187.169525</td>\n",
       "    </tr>\n",
       "    <tr>\n",
       "      <th>max</th>\n",
       "      <td>78.998742</td>\n",
       "      <td>269.989699</td>\n",
       "    </tr>\n",
       "  </tbody>\n",
       "</table>\n",
       "</div>"
      ],
      "text/plain": [
       "             Height        Weight\n",
       "count  10000.000000  10000.000000\n",
       "mean      66.367560    161.440357\n",
       "std        3.847528     32.108439\n",
       "min       54.263133     64.700127\n",
       "25%       63.505620    135.818051\n",
       "50%       66.318070    161.212928\n",
       "75%       69.174262    187.169525\n",
       "max       78.998742    269.989699"
      ]
     },
     "execution_count": 41,
     "metadata": {},
     "output_type": "execute_result"
    }
   ],
   "source": [
    "data.describe()"
   ]
  },
  {
   "cell_type": "code",
   "execution_count": 42,
   "id": "5813e65f",
   "metadata": {},
   "outputs": [
    {
     "data": {
      "text/plain": [
       "Gender        2\n",
       "Height    10000\n",
       "Weight    10000\n",
       "dtype: int64"
      ]
     },
     "execution_count": 42,
     "metadata": {},
     "output_type": "execute_result"
    }
   ],
   "source": [
    "data.nunique()"
   ]
  },
  {
   "cell_type": "code",
   "execution_count": 43,
   "id": "cc4e7d56",
   "metadata": {},
   "outputs": [
    {
     "data": {
      "text/plain": [
       "Gender     object\n",
       "Height    float64\n",
       "Weight    float64\n",
       "dtype: object"
      ]
     },
     "execution_count": 43,
     "metadata": {},
     "output_type": "execute_result"
    }
   ],
   "source": [
    "data.dtypes"
   ]
  },
  {
   "cell_type": "code",
   "execution_count": 44,
   "id": "5394b7ac",
   "metadata": {},
   "outputs": [
    {
     "data": {
      "text/plain": [
       "Gender    0\n",
       "Height    0\n",
       "Weight    0\n",
       "dtype: int64"
      ]
     },
     "execution_count": 44,
     "metadata": {},
     "output_type": "execute_result"
    }
   ],
   "source": [
    "data.isnull().sum()"
   ]
  },
  {
   "cell_type": "code",
   "execution_count": 45,
   "id": "f5e18756",
   "metadata": {},
   "outputs": [
    {
     "data": {
      "text/plain": [
       "Male      5000\n",
       "Female    5000\n",
       "Name: Gender, dtype: int64"
      ]
     },
     "execution_count": 45,
     "metadata": {},
     "output_type": "execute_result"
    }
   ],
   "source": [
    "data['Gender'].value_counts()"
   ]
  },
  {
   "cell_type": "code",
   "execution_count": 46,
   "id": "bf48a139",
   "metadata": {},
   "outputs": [
    {
     "name": "stdout",
     "output_type": "stream",
     "text": [
      "(10000, 3)\n"
     ]
    }
   ],
   "source": [
    "data.drop_duplicates(keep='first',inplace=True)\n",
    "print(data.shape)"
   ]
  },
  {
   "cell_type": "code",
   "execution_count": 47,
   "id": "ae3f80ba",
   "metadata": {},
   "outputs": [],
   "source": [
    "data.columns\n",
    "data['Gender'].replace(to_replace=\"Male\",value=1,inplace=True)\n",
    "data['Gender'].replace(to_replace=\"Female\",value=0,inplace=True)"
   ]
  },
  {
   "cell_type": "code",
   "execution_count": 48,
   "id": "93c5e358",
   "metadata": {},
   "outputs": [
    {
     "data": {
      "text/html": [
       "<div>\n",
       "<style scoped>\n",
       "    .dataframe tbody tr th:only-of-type {\n",
       "        vertical-align: middle;\n",
       "    }\n",
       "\n",
       "    .dataframe tbody tr th {\n",
       "        vertical-align: top;\n",
       "    }\n",
       "\n",
       "    .dataframe thead th {\n",
       "        text-align: right;\n",
       "    }\n",
       "</style>\n",
       "<table border=\"1\" class=\"dataframe\">\n",
       "  <thead>\n",
       "    <tr style=\"text-align: right;\">\n",
       "      <th></th>\n",
       "      <th>Gender</th>\n",
       "      <th>Height</th>\n",
       "      <th>Weight</th>\n",
       "    </tr>\n",
       "  </thead>\n",
       "  <tbody>\n",
       "    <tr>\n",
       "      <th>0</th>\n",
       "      <td>1</td>\n",
       "      <td>73.847017</td>\n",
       "      <td>241.893563</td>\n",
       "    </tr>\n",
       "    <tr>\n",
       "      <th>1</th>\n",
       "      <td>1</td>\n",
       "      <td>68.781904</td>\n",
       "      <td>162.310473</td>\n",
       "    </tr>\n",
       "    <tr>\n",
       "      <th>2</th>\n",
       "      <td>1</td>\n",
       "      <td>74.110105</td>\n",
       "      <td>212.740856</td>\n",
       "    </tr>\n",
       "    <tr>\n",
       "      <th>3</th>\n",
       "      <td>1</td>\n",
       "      <td>71.730978</td>\n",
       "      <td>220.042470</td>\n",
       "    </tr>\n",
       "    <tr>\n",
       "      <th>4</th>\n",
       "      <td>1</td>\n",
       "      <td>69.881796</td>\n",
       "      <td>206.349801</td>\n",
       "    </tr>\n",
       "  </tbody>\n",
       "</table>\n",
       "</div>"
      ],
      "text/plain": [
       "   Gender     Height      Weight\n",
       "0       1  73.847017  241.893563\n",
       "1       1  68.781904  162.310473\n",
       "2       1  74.110105  212.740856\n",
       "3       1  71.730978  220.042470\n",
       "4       1  69.881796  206.349801"
      ]
     },
     "execution_count": 48,
     "metadata": {},
     "output_type": "execute_result"
    }
   ],
   "source": [
    "data.head()"
   ]
  },
  {
   "cell_type": "code",
   "execution_count": 49,
   "id": "e0706bda",
   "metadata": {},
   "outputs": [],
   "source": [
    "for col in ['Gender']:\n",
    "    data[col] = data[col].astype('category')\n",
    "for col in ['Height']:\n",
    "    data[col] = data[col].astype('int')\n",
    "for col in ['Weight']:\n",
    "    data[col] = data[col].astype('int')"
   ]
  },
  {
   "cell_type": "code",
   "execution_count": 50,
   "id": "5b4396d9",
   "metadata": {},
   "outputs": [
    {
     "data": {
      "text/plain": [
       "Gender    category\n",
       "Height       int32\n",
       "Weight       int32\n",
       "dtype: object"
      ]
     },
     "execution_count": 50,
     "metadata": {},
     "output_type": "execute_result"
    }
   ],
   "source": [
    "data.dtypes"
   ]
  },
  {
   "cell_type": "code",
   "execution_count": 51,
   "id": "0d634aac",
   "metadata": {},
   "outputs": [],
   "source": [
    "data = np.array(data) #passsing the new numpyfied data to the new data variable."
   ]
  },
  {
   "cell_type": "code",
   "execution_count": 52,
   "id": "e614c523",
   "metadata": {},
   "outputs": [],
   "source": [
    "m,n=data.shape # mxn RowxCol."
   ]
  },
  {
   "cell_type": "code",
   "execution_count": 53,
   "id": "3a9f2129",
   "metadata": {},
   "outputs": [
    {
     "name": "stdout",
     "output_type": "stream",
     "text": [
      "10000 3\n"
     ]
    }
   ],
   "source": [
    "print(m,n) #m denoting the total data and n denoting the pixels per data."
   ]
  },
  {
   "cell_type": "code",
   "execution_count": 54,
   "id": "0cbd5aff",
   "metadata": {},
   "outputs": [
    {
     "data": {
      "text/plain": [
       "array([[  1,  73, 241],\n",
       "       [  1,  68, 162],\n",
       "       [  1,  74, 212],\n",
       "       ...,\n",
       "       [  0,  63, 128],\n",
       "       [  0,  69, 163],\n",
       "       [  0,  61, 113]], dtype=int64)"
      ]
     },
     "execution_count": 54,
     "metadata": {},
     "output_type": "execute_result"
    }
   ],
   "source": [
    "data"
   ]
  },
  {
   "cell_type": "code",
   "execution_count": 55,
   "id": "cc3e8e0c",
   "metadata": {
    "scrolled": true
   },
   "outputs": [
    {
     "data": {
      "text/plain": [
       "array([[  1,   1,   1, ...,   0,   0,   0],\n",
       "       [ 73,  68,  74, ...,  63,  69,  61],\n",
       "       [241, 162, 212, ..., 128, 163, 113]], dtype=int64)"
      ]
     },
     "execution_count": 55,
     "metadata": {},
     "output_type": "execute_result"
    }
   ],
   "source": [
    "data.T"
   ]
  },
  {
   "cell_type": "code",
   "execution_count": 56,
   "id": "de0b4fdc",
   "metadata": {},
   "outputs": [],
   "source": [
    "np.random.shuffle(data) # shuffle before splitting into dev and training sets.\n",
    "\n",
    "#This is the Cross-Validation split\n",
    "data_dev = data[0:1000].T #Transposing the data from row vector to coloumn vector.\n",
    "Y_dev = data_dev[0] #Now this would be the first Row(the output/the label/the aim).\n",
    "X_dev = data_dev[1:n] #Now this is the data part after seperating the label hence the 1:n(n from the dimension).\n",
    "X_dev = X_dev / 255. #Normalizing the values.\n",
    "\n",
    "#This is the Train Split\n",
    "data_train = data[1000:m].T #Transposing the data from row vector to coloumn vector.\n",
    "Y_train = data_train[0] #Now this would be the first Row(the output/the label/the aim).\n",
    "X_train = data_train[1:n] #Now this is the data part after seperating the label hence the 1:n(n from the dimension).\n",
    "X_train = X_train / 255. #Normalization\n",
    "_,m_train = X_train.shape"
   ]
  },
  {
   "cell_type": "code",
   "execution_count": 57,
   "id": "9cf1137a",
   "metadata": {
    "scrolled": true
   },
   "outputs": [
    {
     "name": "stdout",
     "output_type": "stream",
     "text": [
      "The Y_Train data:[1 1 0 ... 1 0 1]\n",
      "The X_train data:[0.27843137 0.28235294 0.22745098 ... 0.25882353 0.25098039 0.25490196]\n",
      "The X_train data shape:(2,)\n"
     ]
    }
   ],
   "source": [
    "print(f\"The Y_Train data:{Y_train}\")\n",
    "print(f\"The X_train data:{X_train[0]}\") #Just checking the 0th pos as its a big array.\n",
    "print(f\"The X_train data shape:{X_train[:,0].shape}\") #Checking the shape to see the total pixel points are there."
   ]
  },
  {
   "cell_type": "code",
   "execution_count": 58,
   "id": "6c70a239",
   "metadata": {},
   "outputs": [
    {
     "data": {
      "text/plain": [
       "array([1, 1, 0, ..., 1, 0, 1], dtype=int64)"
      ]
     },
     "execution_count": 58,
     "metadata": {},
     "output_type": "execute_result"
    }
   ],
   "source": [
    "Y_train"
   ]
  },
  {
   "cell_type": "code",
   "execution_count": 59,
   "id": "ae5a5a64",
   "metadata": {},
   "outputs": [
    {
     "data": {
      "text/plain": [
       "(2, 9000)"
      ]
     },
     "execution_count": 59,
     "metadata": {},
     "output_type": "execute_result"
    }
   ],
   "source": [
    "a,b=X_train.shape\n",
    "X_train.shape"
   ]
  },
  {
   "cell_type": "markdown",
   "id": "d8fcccfe",
   "metadata": {},
   "source": [
    "We need to run gradient descent "
   ]
  },
  {
   "cell_type": "markdown",
   "id": "599585db",
   "metadata": {},
   "source": [
    "first we need to initialize some parameters."
   ]
  },
  {
   "cell_type": "code",
   "execution_count": 60,
   "id": "65d3a5e3",
   "metadata": {},
   "outputs": [],
   "source": [
    "def init_params(): #1\n",
    "    W1 = np.random.randn(10,2) \n",
    "    W2 = np.random.randn(2,10)\n",
    "    b1 = np.random.rand(10, 1) - 0.5 #(1,n_neurons)\n",
    "    b2 = np.random.rand(1,1) - 0.5\n",
    "    return W1, b1, W2, b2"
   ]
  },
  {
   "cell_type": "code",
   "execution_count": 61,
   "id": "92a94151",
   "metadata": {},
   "outputs": [],
   "source": [
    "#Needed in the forward Propogation\n",
    "def ReLU(Z): #3\n",
    "    return np.maximum(Z, 0) #Just selecting the max function."
   ]
  },
  {
   "cell_type": "code",
   "execution_count": 62,
   "id": "0adc6fd2",
   "metadata": {},
   "outputs": [],
   "source": [
    "def forward_prop(W1, b1, W2, b2, X): #2\n",
    "    Z1 = W1.dot(X) + b1 #Z1 is the non-active set of neurons.X is the input as its the input layer.\n",
    "    A1 = ReLU(Z1) #A1 is the activation function to pass the values\n",
    "    Z2 = W2.dot(A1) + b2 #Z2 its the second layer,which takes the dot product from A1 ie;prev output from neuron.\n",
    "    A2 = softmax(Z2) #A2 has softmax applied data for further classification.\n",
    "    return Z1, A1, Z2, A2\n"
   ]
  },
  {
   "cell_type": "code",
   "execution_count": 63,
   "id": "ed943ce7",
   "metadata": {},
   "outputs": [],
   "source": [
    "#Needed in the BackPropogation to undo the applied functions.\n",
    "def ReLU_deriv(Z):#7\n",
    "    return Z > 0"
   ]
  },
  {
   "cell_type": "code",
   "execution_count": 64,
   "id": "9b72b1d3",
   "metadata": {},
   "outputs": [],
   "source": [
    "#for backward propogation\n",
    "def one_hot(Y): #6\n",
    "    one_hot_Y = np.zeros((Y.size, Y.max() + 1)) #To create an empty matrix(filled with 0)\n",
    "    one_hot_Y[np.arange(Y.size), Y] = 1 #Setting the respective values as needed.\n",
    "    one_hot_Y = one_hot_Y.T #Transposing the matrix\n",
    "    return one_hot_Y\n"
   ]
  },
  {
   "cell_type": "code",
   "execution_count": 65,
   "id": "3d5909ef",
   "metadata": {},
   "outputs": [
    {
     "data": {
      "text/plain": [
       "(2, 9000)"
      ]
     },
     "execution_count": 65,
     "metadata": {},
     "output_type": "execute_result"
    }
   ],
   "source": [
    "one_hot(Y_train).shape"
   ]
  },
  {
   "cell_type": "code",
   "execution_count": 66,
   "id": "452ed2bf",
   "metadata": {},
   "outputs": [],
   "source": [
    "def backward_prop(Z1, A1, Z2, A2, W1, W2, X, Y): #5\n",
    "    one_hot_Y = one_hot(Y)\n",
    "    m=Y.size\n",
    "    dZ2 = A2 - one_hot_Y #To find the error.\n",
    "    dW2 = 1 / m * dZ2.dot(A1.T)\n",
    "    db2 = 1 / m * np.sum(dZ2)\n",
    "    \n",
    "    dZ1 = W2.T.dot(dZ2) * ReLU_deriv(Z1) #Revert changes.\n",
    "    dW1 = 1 / m * dZ1.dot(X.T)\n",
    "    db1 = 1 / m * np.sum(dZ1)\n",
    "    \n",
    "    return dW1, db1, dW2, db2"
   ]
  },
  {
   "cell_type": "code",
   "execution_count": 67,
   "id": "b458fc74",
   "metadata": {},
   "outputs": [],
   "source": [
    "def update_params(W1, b1, W2, b2, dW1, db1, dW2, db2, alpha): #Alpha would act as the learning parameter.\n",
    "    W1 = W1 - alpha * dW1\n",
    "    b1 = b1 - alpha * db1    \n",
    "    W2 = W2 - alpha * dW2  \n",
    "    b2 = b2 - alpha * db2    \n",
    "    return W1, b1, W2, b2\n"
   ]
  },
  {
   "cell_type": "code",
   "execution_count": 68,
   "id": "b91e0997",
   "metadata": {},
   "outputs": [],
   "source": [
    "def get_predictions(A2):\n",
    "    return np.argmax(A2, 0) #on the Xaxis\n"
   ]
  },
  {
   "cell_type": "code",
   "execution_count": 69,
   "id": "e44bd72b",
   "metadata": {},
   "outputs": [],
   "source": [
    "def get_accuracy(predictions, Y):\n",
    "    print(predictions, Y)\n",
    "    return np.sum(predictions == Y) / Y.size"
   ]
  },
  {
   "cell_type": "code",
   "execution_count": 70,
   "id": "7d8503bf",
   "metadata": {},
   "outputs": [],
   "source": [
    "#Needed in the forward Propogation\n",
    "def softmax(Z): #4\n",
    "    A = np.exp(Z) / sum(np.exp(Z))\n",
    "    return A"
   ]
  },
  {
   "cell_type": "code",
   "execution_count": 71,
   "id": "163ee8e1",
   "metadata": {},
   "outputs": [],
   "source": [
    "def gradient_descent(X, Y, alpha, iterations):\n",
    "    \n",
    "    W1, b1, W2, b2 = init_params()\n",
    "    \n",
    "    for i in range(iterations):\n",
    "        Z1, A1, Z2, A2 = forward_prop(W1, b1, W2, b2, X)\n",
    "        dW1, db1, dW2, db2 = backward_prop(Z1, A1, Z2, A2, W1, W2, X, Y)\n",
    "        W1, b1, W2, b2 = update_params(W1, b1, W2, b2, dW1, db1, dW2, db2, alpha)\n",
    "        if i % 10 == 0: #setting the denoter to occur every 10 steps.\n",
    "            print(\"Iteration: \", i)\n",
    "            predictions = get_predictions(A2)\n",
    "            print(get_accuracy(predictions, Y))\n",
    "    return W1, b1, W2, b2"
   ]
  },
  {
   "cell_type": "code",
   "execution_count": 74,
   "id": "dea9c482",
   "metadata": {},
   "outputs": [
    {
     "name": "stdout",
     "output_type": "stream",
     "text": [
      "Iteration:  0\n",
      "[1 1 1 ... 1 1 1] [1 1 0 ... 1 0 1]\n",
      "0.5002222222222222\n",
      "Iteration:  10\n",
      "[1 1 0 ... 1 1 1] [1 1 0 ... 1 0 1]\n",
      "0.6686666666666666\n",
      "Iteration:  20\n",
      "[1 1 0 ... 1 1 1] [1 1 0 ... 1 0 1]\n",
      "0.6928888888888889\n",
      "Iteration:  30\n",
      "[1 1 0 ... 1 1 1] [1 1 0 ... 1 0 1]\n",
      "0.7053333333333334\n",
      "Iteration:  40\n",
      "[1 1 0 ... 1 1 1] [1 1 0 ... 1 0 1]\n",
      "0.7171111111111111\n",
      "Iteration:  50\n",
      "[1 1 0 ... 1 1 1] [1 1 0 ... 1 0 1]\n",
      "0.7226666666666667\n",
      "Iteration:  60\n",
      "[1 1 0 ... 1 1 1] [1 1 0 ... 1 0 1]\n",
      "0.7302222222222222\n",
      "Iteration:  70\n",
      "[1 1 0 ... 1 1 1] [1 1 0 ... 1 0 1]\n",
      "0.7391111111111112\n",
      "Iteration:  80\n",
      "[1 1 0 ... 1 1 1] [1 1 0 ... 1 0 1]\n",
      "0.7503333333333333\n",
      "Iteration:  90\n",
      "[1 1 0 ... 1 1 1] [1 1 0 ... 1 0 1]\n",
      "0.7516666666666667\n",
      "Iteration:  100\n",
      "[1 1 0 ... 1 1 1] [1 1 0 ... 1 0 1]\n",
      "0.7602222222222222\n",
      "Iteration:  110\n",
      "[1 1 0 ... 1 1 1] [1 1 0 ... 1 0 1]\n",
      "0.7675555555555555\n",
      "Iteration:  120\n",
      "[1 1 0 ... 1 1 1] [1 1 0 ... 1 0 1]\n",
      "0.7693333333333333\n",
      "Iteration:  130\n",
      "[1 1 0 ... 1 1 1] [1 1 0 ... 1 0 1]\n",
      "0.7746666666666666\n",
      "Iteration:  140\n",
      "[1 1 0 ... 1 1 1] [1 1 0 ... 1 0 1]\n",
      "0.7801111111111111\n",
      "Iteration:  150\n",
      "[1 1 0 ... 1 1 1] [1 1 0 ... 1 0 1]\n",
      "0.7823333333333333\n",
      "Iteration:  160\n",
      "[1 1 0 ... 1 1 1] [1 1 0 ... 1 0 1]\n",
      "0.7852222222222223\n",
      "Iteration:  170\n",
      "[1 1 0 ... 1 1 1] [1 1 0 ... 1 0 1]\n",
      "0.7917777777777778\n",
      "Iteration:  180\n",
      "[1 1 0 ... 1 1 1] [1 1 0 ... 1 0 1]\n",
      "0.7946666666666666\n",
      "Iteration:  190\n",
      "[1 1 0 ... 1 1 1] [1 1 0 ... 1 0 1]\n",
      "0.7985555555555556\n",
      "Iteration:  200\n",
      "[1 1 0 ... 1 1 1] [1 1 0 ... 1 0 1]\n",
      "0.8017777777777778\n",
      "Iteration:  210\n",
      "[1 1 0 ... 1 1 1] [1 1 0 ... 1 0 1]\n",
      "0.805\n",
      "Iteration:  220\n",
      "[1 1 0 ... 1 1 1] [1 1 0 ... 1 0 1]\n",
      "0.811\n",
      "Iteration:  230\n",
      "[1 1 0 ... 1 1 1] [1 1 0 ... 1 0 1]\n",
      "0.8116666666666666\n",
      "Iteration:  240\n",
      "[1 1 0 ... 1 1 1] [1 1 0 ... 1 0 1]\n",
      "0.8155555555555556\n",
      "Iteration:  250\n",
      "[1 1 0 ... 1 1 1] [1 1 0 ... 1 0 1]\n",
      "0.8163333333333334\n",
      "Iteration:  260\n",
      "[1 1 0 ... 1 1 1] [1 1 0 ... 1 0 1]\n",
      "0.8205555555555556\n",
      "Iteration:  270\n",
      "[1 1 0 ... 1 1 1] [1 1 0 ... 1 0 1]\n",
      "0.8253333333333334\n",
      "Iteration:  280\n",
      "[1 1 0 ... 1 1 1] [1 1 0 ... 1 0 1]\n",
      "0.8298888888888889\n",
      "Iteration:  290\n",
      "[1 1 0 ... 1 1 1] [1 1 0 ... 1 0 1]\n",
      "0.83\n",
      "Iteration:  300\n",
      "[1 1 0 ... 1 1 1] [1 1 0 ... 1 0 1]\n",
      "0.834\n",
      "Iteration:  310\n",
      "[1 1 0 ... 1 1 1] [1 1 0 ... 1 0 1]\n",
      "0.8371111111111111\n",
      "Iteration:  320\n",
      "[1 1 0 ... 1 1 1] [1 1 0 ... 1 0 1]\n",
      "0.8407777777777777\n",
      "Iteration:  330\n",
      "[1 1 0 ... 1 1 1] [1 1 0 ... 1 0 1]\n",
      "0.8454444444444444\n",
      "Iteration:  340\n",
      "[1 1 0 ... 1 1 1] [1 1 0 ... 1 0 1]\n",
      "0.849\n",
      "Iteration:  350\n",
      "[1 1 0 ... 1 0 1] [1 1 0 ... 1 0 1]\n",
      "0.8515555555555555\n",
      "Iteration:  360\n",
      "[1 1 0 ... 1 0 1] [1 1 0 ... 1 0 1]\n",
      "0.8533333333333334\n",
      "Iteration:  370\n",
      "[1 1 0 ... 1 0 1] [1 1 0 ... 1 0 1]\n",
      "0.8581111111111112\n",
      "Iteration:  380\n",
      "[1 1 0 ... 1 0 1] [1 1 0 ... 1 0 1]\n",
      "0.8628888888888889\n",
      "Iteration:  390\n",
      "[1 1 0 ... 1 0 1] [1 1 0 ... 1 0 1]\n",
      "0.8658888888888889\n",
      "Iteration:  400\n",
      "[1 1 0 ... 1 0 1] [1 1 0 ... 1 0 1]\n",
      "0.8682222222222222\n",
      "Iteration:  410\n",
      "[1 1 0 ... 1 0 1] [1 1 0 ... 1 0 1]\n",
      "0.8725555555555555\n",
      "Iteration:  420\n",
      "[1 1 0 ... 1 0 1] [1 1 0 ... 1 0 1]\n",
      "0.8767777777777778\n",
      "Iteration:  430\n",
      "[1 1 0 ... 1 0 1] [1 1 0 ... 1 0 1]\n",
      "0.8791111111111111\n",
      "Iteration:  440\n",
      "[1 1 0 ... 1 0 0] [1 1 0 ... 1 0 1]\n",
      "0.8826666666666667\n",
      "Iteration:  450\n",
      "[1 1 0 ... 1 0 0] [1 1 0 ... 1 0 1]\n",
      "0.8854444444444445\n",
      "Iteration:  460\n",
      "[1 1 0 ... 1 0 0] [1 1 0 ... 1 0 1]\n",
      "0.8868888888888888\n",
      "Iteration:  470\n",
      "[1 1 0 ... 1 0 0] [1 1 0 ... 1 0 1]\n",
      "0.8897777777777778\n",
      "Iteration:  480\n",
      "[1 1 0 ... 1 0 0] [1 1 0 ... 1 0 1]\n",
      "0.8905555555555555\n",
      "Iteration:  490\n",
      "[1 1 0 ... 1 0 0] [1 1 0 ... 1 0 1]\n",
      "0.8922222222222222\n",
      "Iteration:  500\n",
      "[1 1 0 ... 1 0 0] [1 1 0 ... 1 0 1]\n",
      "0.8937777777777778\n",
      "Iteration:  510\n",
      "[1 1 0 ... 1 0 0] [1 1 0 ... 1 0 1]\n",
      "0.8952222222222223\n",
      "Iteration:  520\n",
      "[1 1 0 ... 1 0 0] [1 1 0 ... 1 0 1]\n",
      "0.8957777777777778\n",
      "Iteration:  530\n",
      "[1 1 0 ... 1 0 0] [1 1 0 ... 1 0 1]\n",
      "0.8963333333333333\n",
      "Iteration:  540\n",
      "[1 1 0 ... 1 0 0] [1 1 0 ... 1 0 1]\n",
      "0.8973333333333333\n",
      "Iteration:  550\n",
      "[1 1 0 ... 1 0 0] [1 1 0 ... 1 0 1]\n",
      "0.8977777777777778\n",
      "Iteration:  560\n",
      "[1 1 0 ... 1 0 0] [1 1 0 ... 1 0 1]\n",
      "0.8976666666666666\n",
      "Iteration:  570\n",
      "[1 1 0 ... 1 0 0] [1 1 0 ... 1 0 1]\n",
      "0.8984444444444445\n",
      "Iteration:  580\n",
      "[1 1 0 ... 1 0 0] [1 1 0 ... 1 0 1]\n",
      "0.9005555555555556\n",
      "Iteration:  590\n",
      "[1 1 0 ... 1 0 0] [1 1 0 ... 1 0 1]\n",
      "0.9017777777777778\n",
      "Iteration:  600\n",
      "[1 1 0 ... 1 0 0] [1 1 0 ... 1 0 1]\n",
      "0.9018888888888889\n",
      "Iteration:  610\n",
      "[1 1 0 ... 1 0 0] [1 1 0 ... 1 0 1]\n",
      "0.9018888888888889\n",
      "Iteration:  620\n",
      "[1 1 0 ... 1 0 0] [1 1 0 ... 1 0 1]\n",
      "0.9006666666666666\n",
      "Iteration:  630\n",
      "[1 1 0 ... 1 0 0] [1 1 0 ... 1 0 1]\n",
      "0.9006666666666666\n",
      "Iteration:  640\n",
      "[1 1 0 ... 1 0 0] [1 1 0 ... 1 0 1]\n",
      "0.9027777777777778\n",
      "Iteration:  650\n",
      "[1 1 0 ... 1 0 0] [1 1 0 ... 1 0 1]\n",
      "0.903\n",
      "Iteration:  660\n",
      "[1 1 0 ... 1 0 0] [1 1 0 ... 1 0 1]\n",
      "0.903\n",
      "Iteration:  670\n",
      "[1 1 0 ... 1 0 0] [1 1 0 ... 1 0 1]\n",
      "0.903\n",
      "Iteration:  680\n",
      "[1 1 0 ... 1 0 0] [1 1 0 ... 1 0 1]\n",
      "0.903\n",
      "Iteration:  690\n",
      "[1 1 0 ... 1 0 0] [1 1 0 ... 1 0 1]\n",
      "0.903\n",
      "Iteration:  700\n",
      "[1 1 0 ... 1 0 0] [1 1 0 ... 1 0 1]\n",
      "0.903\n",
      "Iteration:  710\n",
      "[1 1 0 ... 1 0 0] [1 1 0 ... 1 0 1]\n",
      "0.9031111111111111\n",
      "Iteration:  720\n",
      "[1 1 0 ... 1 0 0] [1 1 0 ... 1 0 1]\n",
      "0.9031111111111111\n",
      "Iteration:  730\n",
      "[1 1 0 ... 1 0 0] [1 1 0 ... 1 0 1]\n",
      "0.9031111111111111\n",
      "Iteration:  740\n",
      "[1 1 0 ... 1 0 0] [1 1 0 ... 1 0 1]\n",
      "0.9031111111111111\n",
      "Iteration:  750\n",
      "[1 1 0 ... 1 0 0] [1 1 0 ... 1 0 1]\n",
      "0.9031111111111111\n",
      "Iteration:  760\n",
      "[1 1 0 ... 1 0 0] [1 1 0 ... 1 0 1]\n",
      "0.9031111111111111\n",
      "Iteration:  770\n",
      "[1 1 0 ... 1 0 0] [1 1 0 ... 1 0 1]\n",
      "0.9031111111111111\n",
      "Iteration:  780\n",
      "[1 1 0 ... 1 0 0] [1 1 0 ... 1 0 1]\n",
      "0.9031111111111111\n",
      "Iteration:  790\n",
      "[1 1 0 ... 1 0 0] [1 1 0 ... 1 0 1]\n",
      "0.9031111111111111\n",
      "Iteration:  800\n",
      "[1 1 0 ... 1 0 0] [1 1 0 ... 1 0 1]\n",
      "0.9031111111111111\n",
      "Iteration:  810\n",
      "[1 1 0 ... 1 0 0] [1 1 0 ... 1 0 1]\n",
      "0.9034444444444445\n",
      "Iteration:  820\n",
      "[1 1 0 ... 1 0 0] [1 1 0 ... 1 0 1]\n",
      "0.9033333333333333\n",
      "Iteration:  830\n",
      "[1 1 0 ... 1 0 0] [1 1 0 ... 1 0 1]\n",
      "0.9038888888888889\n",
      "Iteration:  840\n",
      "[1 1 0 ... 1 0 0] [1 1 0 ... 1 0 1]\n",
      "0.9041111111111111\n",
      "Iteration:  850\n",
      "[1 1 0 ... 1 0 0] [1 1 0 ... 1 0 1]\n",
      "0.9041111111111111\n",
      "Iteration:  860\n",
      "[1 1 0 ... 1 0 0] [1 1 0 ... 1 0 1]\n",
      "0.9045555555555556\n",
      "Iteration:  870\n",
      "[1 1 0 ... 1 0 0] [1 1 0 ... 1 0 1]\n",
      "0.9045555555555556\n",
      "Iteration:  880\n",
      "[1 1 0 ... 1 0 0] [1 1 0 ... 1 0 1]\n",
      "0.9045555555555556\n",
      "Iteration:  890\n",
      "[1 1 0 ... 1 0 0] [1 1 0 ... 1 0 1]\n",
      "0.9043333333333333\n",
      "Iteration:  900\n",
      "[1 1 0 ... 1 0 0] [1 1 0 ... 1 0 1]\n",
      "0.9043333333333333\n",
      "Iteration:  910\n",
      "[1 1 0 ... 1 0 0] [1 1 0 ... 1 0 1]\n",
      "0.9043333333333333\n",
      "Iteration:  920\n",
      "[1 1 0 ... 1 0 0] [1 1 0 ... 1 0 1]\n",
      "0.9042222222222223\n",
      "Iteration:  930\n",
      "[1 1 0 ... 1 0 0] [1 1 0 ... 1 0 1]\n",
      "0.9042222222222223\n",
      "Iteration:  940\n",
      "[1 1 0 ... 1 0 0] [1 1 0 ... 1 0 1]\n",
      "0.9042222222222223\n",
      "Iteration:  950\n",
      "[1 1 0 ... 1 0 0] [1 1 0 ... 1 0 1]\n",
      "0.9042222222222223\n",
      "Iteration:  960\n",
      "[1 1 0 ... 1 0 0] [1 1 0 ... 1 0 1]\n",
      "0.9042222222222223\n",
      "Iteration:  970\n",
      "[1 1 0 ... 1 0 0] [1 1 0 ... 1 0 1]\n",
      "0.9042222222222223\n",
      "Iteration:  980\n",
      "[1 1 0 ... 1 0 0] [1 1 0 ... 1 0 1]\n",
      "0.9042222222222223\n",
      "Iteration:  990\n",
      "[1 1 0 ... 1 0 0] [1 1 0 ... 1 0 1]\n",
      "0.9041111111111111\n"
     ]
    }
   ],
   "source": [
    "W1, b1, W2, b2 = gradient_descent(X_train, Y_train, 0.10, 1000)"
   ]
  },
  {
   "cell_type": "code",
   "execution_count": 75,
   "id": "c8834af4",
   "metadata": {},
   "outputs": [
    {
     "name": "stdout",
     "output_type": "stream",
     "text": [
      "The Captured weights/biases are\n",
      ">>>>>>>>>>>>>>>>>>>>>>>>>>>>>>>>>>>>>>>>>>>>>>>>>>>\n",
      "[[ 1.35210615 -0.62078576]\n",
      " [ 1.34416937  3.29270088]\n",
      " [-0.77519343 -2.49798149]\n",
      " [-0.29695302 -1.61464403]\n",
      " [-0.04464896  2.35957023]\n",
      " [ 0.29786261 -0.17317509]\n",
      " [-1.38349413  0.08405886]\n",
      " [ 0.014589    2.59663355]\n",
      " [-2.14012079 -0.26000968]\n",
      " [ 1.35972363 -1.14692273]]\n",
      ">>>>>>>>>>>>>>>>>>>>>>>>>>>>>>>>>>>>>>>>>>>>>>>>>>>\n",
      "[[ 1.51637423  1.3758062   1.33145586  1.13158079 -2.08660606  0.15627939\n",
      "  -0.30701688 -2.19528159 -0.08325524  0.29815863]\n",
      " [-0.43666682 -0.89230797 -0.91504185 -0.01625231  4.34382249 -0.01565936\n",
      "  -0.23059385  2.43640205  0.87393039 -1.03093919]]\n",
      ">>>>>>>>>>>>>>>>>>>>>>>>>>>>>>>>>>>>>>>>>>>>>>>>>>>\n",
      "[[-0.81570779]\n",
      " [-0.8842642 ]\n",
      " [-0.89158254]\n",
      " [-0.40083765]\n",
      " [-1.16069818]\n",
      " [-0.5998369 ]\n",
      " [-0.47529718]\n",
      " [-1.30663804]\n",
      " [-1.1999505 ]\n",
      " [-0.87323339]]\n",
      ">>>>>>>>>>>>>>>>>>>>>>>>>>>>>>>>>>>>>>>>>>>>>>>>>>>\n",
      "[[-0.81570779]\n",
      " [-0.8842642 ]\n",
      " [-0.89158254]\n",
      " [-0.40083765]\n",
      " [-1.16069818]\n",
      " [-0.5998369 ]\n",
      " [-0.47529718]\n",
      " [-1.30663804]\n",
      " [-1.1999505 ]\n",
      " [-0.87323339]]\n"
     ]
    }
   ],
   "source": [
    "print(\"The Captured weights/biases are\")\n",
    "print(\">>>>>>>>>>>>>>>>>>>>>>>>>>>>>>>>>>>>>>>>>>>>>>>>>>>\")\n",
    "print(W1)\n",
    "print(\">>>>>>>>>>>>>>>>>>>>>>>>>>>>>>>>>>>>>>>>>>>>>>>>>>>\")\n",
    "print(W2)\n",
    "print(\">>>>>>>>>>>>>>>>>>>>>>>>>>>>>>>>>>>>>>>>>>>>>>>>>>>\")\n",
    "print(b1)\n",
    "print(\">>>>>>>>>>>>>>>>>>>>>>>>>>>>>>>>>>>>>>>>>>>>>>>>>>>\")\n",
    "print(b1)"
   ]
  },
  {
   "cell_type": "code",
   "execution_count": 76,
   "id": "248b1fe9",
   "metadata": {},
   "outputs": [],
   "source": [
    "def make_predictions(X, W1, b1, W2, b2):\n",
    "    _, _, _, A2 = forward_prop(W1, b1, W2, b2, X)\n",
    "    predictions = get_predictions(A2)\n",
    "    return predictions\n"
   ]
  },
  {
   "cell_type": "code",
   "execution_count": 77,
   "id": "e5e159fc",
   "metadata": {},
   "outputs": [],
   "source": [
    "def test_prediction(index, W1, b1, W2, b2):\n",
    "    prediction = make_predictions(X_dev[:, index, None], W1, b1, W2, b2)\n",
    "    label = Y_dev[index]\n",
    "    #Setting up the test files.\n",
    "    print(\"Prediction: \", prediction)\n",
    "    print(\"Label: \", label)\n",
    "   "
   ]
  },
  {
   "cell_type": "code",
   "execution_count": 78,
   "id": "a8fee209",
   "metadata": {},
   "outputs": [
    {
     "name": "stdout",
     "output_type": "stream",
     "text": [
      "Prediction:  [1]\n",
      "Label:  1\n"
     ]
    }
   ],
   "source": [
    "test_prediction(2, W1, b1, W2, b2)"
   ]
  },
  {
   "cell_type": "code",
   "execution_count": 79,
   "id": "3aecf231",
   "metadata": {},
   "outputs": [
    {
     "name": "stdout",
     "output_type": "stream",
     "text": [
      "Prediction:  [0]\n",
      "Label:  0\n"
     ]
    }
   ],
   "source": [
    "test_prediction(10, W1, b1, W2, b2)"
   ]
  },
  {
   "cell_type": "code",
   "execution_count": 80,
   "id": "06ccb440",
   "metadata": {},
   "outputs": [
    {
     "name": "stdout",
     "output_type": "stream",
     "text": [
      "Prediction:  [1]\n",
      "Label:  0\n"
     ]
    }
   ],
   "source": [
    "test_prediction(3, W1, b1, W2, b2)"
   ]
  },
  {
   "cell_type": "code",
   "execution_count": 81,
   "id": "a3d9c051",
   "metadata": {},
   "outputs": [
    {
     "name": "stdout",
     "output_type": "stream",
     "text": [
      "Prediction:  [1]\n",
      "Label:  1\n"
     ]
    }
   ],
   "source": [
    "test_prediction(0, W1, b1, W2, b2)"
   ]
  },
  {
   "cell_type": "code",
   "execution_count": 82,
   "id": "fecec7cd",
   "metadata": {
    "scrolled": true
   },
   "outputs": [
    {
     "name": "stdout",
     "output_type": "stream",
     "text": [
      "[1 1 1 1 1 0 0 0 1 0 0 1 0 0 1 0 1 0 1 1 1 1 1 1 0 0 1 1 1 0 1 0 1 1 0 1 1\n",
      " 0 0 0 0 0 0 0 0 1 0 1 0 0 1 0 1 1 0 0 1 1 0 1 1 1 1 0 0 1 0 0 1 0 1 0 1 1\n",
      " 1 1 0 0 1 0 1 0 1 0 0 1 1 1 0 1 1 0 1 0 1 0 0 0 1 0 1 1 0 1 0 0 1 0 0 0 1\n",
      " 1 1 0 1 0 1 1 1 0 1 1 0 0 1 1 1 1 1 0 1 0 0 0 0 1 1 0 0 1 1 1 1 1 1 0 1 1\n",
      " 0 0 0 0 1 1 0 0 0 0 1 0 1 0 1 0 1 1 1 1 1 0 0 1 1 1 0 0 1 0 1 0 0 0 1 1 1\n",
      " 0 0 0 1 0 1 0 0 1 0 1 1 0 0 1 0 0 1 0 1 1 1 0 0 0 1 0 1 0 1 1 1 0 0 0 0 0\n",
      " 1 1 0 0 0 1 0 0 1 1 0 1 0 1 0 0 0 0 0 0 1 0 0 0 0 1 0 1 1 1 0 0 1 0 0 1 1\n",
      " 1 1 0 0 1 1 0 1 0 1 1 1 1 1 1 1 1 1 1 1 0 0 0 0 1 0 0 1 0 0 1 1 0 0 1 1 1\n",
      " 1 1 1 0 0 1 0 1 0 0 0 1 0 1 1 0 0 1 0 0 0 1 1 0 1 0 1 1 1 0 1 1 1 1 1 1 1\n",
      " 1 0 1 1 1 0 0 0 0 1 0 0 0 1 0 0 0 0 0 1 0 1 1 0 0 0 0 1 0 0 0 1 0 1 1 1 1\n",
      " 1 1 0 0 1 0 1 1 1 0 0 0 1 0 1 1 1 1 0 1 1 0 0 1 1 1 1 1 0 0 0 1 1 1 1 0 1\n",
      " 0 1 0 1 1 0 0 0 0 1 1 1 0 0 1 1 1 1 0 1 0 0 1 1 0 1 0 1 0 1 1 0 0 1 1 1 0\n",
      " 1 1 1 0 0 1 0 0 0 1 0 1 1 0 1 0 1 0 0 0 0 1 1 0 0 0 0 0 0 0 0 1 0 0 0 1 0\n",
      " 0 0 1 1 1 0 0 0 1 0 1 0 0 0 1 1 1 1 0 0 1 1 1 0 0 0 1 1 1 1 0 1 1 1 1 1 1\n",
      " 0 1 0 0 1 0 1 1 1 0 0 1 0 0 0 1 0 1 1 0 0 0 1 0 1 1 0 0 0 1 0 1 0 0 0 0 0\n",
      " 0 0 0 0 0 0 0 0 0 0 1 1 0 0 1 0 1 0 1 1 0 1 0 1 1 0 0 1 1 0 1 1 0 1 0 1 0\n",
      " 1 1 1 1 0 0 1 0 0 0 0 1 1 1 1 1 0 1 1 0 1 1 0 0 1 0 1 1 0 0 1 0 1 0 1 0 1\n",
      " 0 0 0 0 0 0 1 1 0 1 1 0 0 0 1 1 0 0 1 0 0 0 1 1 0 1 1 1 0 0 0 1 1 0 0 1 0\n",
      " 0 0 1 1 1 1 1 1 0 0 0 1 1 1 1 0 0 1 0 0 0 1 0 0 0 0 0 1 0 0 1 1 1 0 1 1 1\n",
      " 0 0 1 0 0 1 1 1 1 0 0 1 0 1 0 1 1 1 0 1 1 1 0 1 1 1 0 1 0 1 0 0 0 1 0 0 0\n",
      " 1 0 1 1 1 1 1 1 1 1 0 1 0 1 1 1 1 1 0 0 1 0 1 0 0 1 1 0 1 0 1 0 0 1 1 1 1\n",
      " 0 1 1 0 1 0 0 1 0 0 0 1 0 0 0 0 1 0 1 0 1 0 1 1 1 0 0 1 0 0 1 1 1 1 1 1 1\n",
      " 1 1 1 1 0 1 0 1 0 0 0 1 1 1 0 0 0 0 0 1 1 1 0 1 0 1 1 0 0 1 0 0 1 1 0 1 1\n",
      " 0 1 0 0 1 0 1 1 1 0 0 1 1 0 1 1 1 0 1 1 0 1 0 0 1 0 0 1 0 1 0 0 0 1 0 0 0\n",
      " 1 0 0 1 0 1 0 0 1 0 1 1 0 0 1 1 1 0 1 1 1 1 1 0 0 0 1 0 0 0 0 0 0 1 0 1 0\n",
      " 1 1 1 0 1 0 1 1 1 0 0 0 1 0 0 0 0 0 1 1 1 1 1 0 0 1 0 0 0 1 0 1 0 1 1 1 1\n",
      " 0 1 1 0 0 0 1 1 1 1 0 1 1 1 0 1 1 0 1 0 0 1 1 0 1 1 0 1 0 1 1 0 0 1 1 1 1\n",
      " 1] [1 1 1 0 1 0 0 0 1 0 0 1 0 0 1 0 1 1 1 0 0 1 1 1 0 0 1 1 1 0 1 0 1 1 0 1 1\n",
      " 0 0 0 0 0 0 0 0 1 0 1 0 0 1 0 1 1 0 0 1 1 0 1 1 1 1 0 0 1 0 0 1 1 1 0 1 1\n",
      " 1 1 0 0 1 0 1 0 1 0 0 1 1 1 0 1 1 0 1 0 0 0 0 0 1 1 1 1 0 1 0 0 1 0 0 0 1\n",
      " 1 1 0 1 0 1 1 1 0 1 1 0 0 1 1 0 1 1 0 1 0 0 0 0 1 1 0 0 1 1 1 1 1 1 0 1 1\n",
      " 0 0 0 0 1 1 0 0 0 0 1 0 1 0 1 0 1 1 0 1 1 0 1 1 1 1 0 0 1 0 0 0 1 0 1 1 1\n",
      " 0 0 1 1 0 1 0 0 1 0 1 1 0 0 1 0 0 1 0 0 0 1 0 0 0 1 0 1 0 1 0 1 0 0 1 0 0\n",
      " 1 1 0 0 0 1 0 0 1 1 0 1 0 1 0 0 0 0 0 0 1 0 0 0 1 0 0 1 1 1 0 0 1 0 0 1 1\n",
      " 1 1 0 0 1 1 0 1 0 1 1 1 1 1 1 1 1 1 1 1 0 0 0 0 0 0 0 1 0 0 1 1 0 0 1 1 1\n",
      " 1 0 1 0 0 0 0 1 0 0 0 1 0 1 1 1 0 1 0 0 0 1 1 0 0 0 1 1 0 1 0 1 1 1 1 1 1\n",
      " 1 0 0 0 1 0 0 0 0 1 0 0 0 1 0 0 0 0 0 1 0 1 1 1 0 0 0 1 0 0 0 1 1 1 1 1 1\n",
      " 1 1 0 0 1 0 1 0 1 0 0 0 1 0 1 1 1 1 0 0 1 0 0 1 1 1 1 1 0 1 0 1 1 1 1 0 1\n",
      " 0 1 0 1 0 0 0 1 0 1 1 1 0 0 1 1 1 1 0 1 0 1 1 1 0 0 0 1 0 1 1 0 0 1 1 1 0\n",
      " 1 1 1 0 1 1 0 0 0 1 0 1 1 0 1 0 0 0 0 1 0 1 0 1 0 0 1 0 0 0 0 1 0 0 0 1 0\n",
      " 0 0 1 1 1 0 1 0 1 0 1 0 0 0 1 1 0 1 0 0 1 0 1 0 0 0 1 1 1 1 0 1 1 1 1 1 1\n",
      " 0 1 1 0 1 1 1 1 1 0 0 1 0 0 0 1 1 1 1 0 0 0 1 0 1 0 0 0 0 1 0 1 0 0 0 0 0\n",
      " 0 0 0 0 1 1 0 0 0 0 1 1 0 0 1 0 0 0 1 1 0 1 0 1 1 0 1 0 1 0 1 1 1 1 0 1 0\n",
      " 1 1 1 1 1 0 0 0 0 0 0 1 1 1 1 1 1 1 1 0 1 1 0 0 1 0 1 1 0 0 0 0 1 1 1 0 1\n",
      " 0 0 0 0 0 0 1 1 0 1 1 0 0 0 0 1 0 0 1 0 0 0 1 1 0 1 1 1 0 0 0 1 1 0 0 1 0\n",
      " 0 0 1 1 1 1 1 1 0 0 0 1 1 1 1 0 0 1 0 0 0 1 0 0 0 0 0 1 0 0 1 1 1 0 1 1 0\n",
      " 0 0 1 0 0 1 1 0 1 0 1 1 0 1 0 1 1 1 0 1 1 1 0 1 1 1 0 1 0 1 1 0 0 1 0 0 0\n",
      " 1 0 1 1 1 1 0 1 1 1 0 0 0 1 1 0 1 1 0 0 1 0 1 0 0 1 1 0 1 0 1 0 0 1 1 1 0\n",
      " 0 1 1 0 1 0 0 1 0 0 0 1 0 0 0 0 1 0 1 1 1 0 1 1 1 0 0 1 0 0 1 1 1 1 1 1 1\n",
      " 1 1 1 1 0 1 0 1 0 0 0 1 1 0 0 0 0 0 0 1 1 1 0 1 0 1 1 0 0 1 0 0 1 1 0 0 1\n",
      " 0 1 0 0 1 0 1 1 1 0 1 1 1 0 0 0 1 0 1 1 0 1 0 1 0 0 0 1 0 1 1 0 0 1 0 0 0\n",
      " 0 0 0 1 0 1 0 0 1 0 1 1 0 0 1 1 1 0 1 1 1 1 1 0 0 1 0 0 0 0 0 0 0 1 0 1 0\n",
      " 1 1 1 0 1 0 1 1 1 0 0 0 1 0 0 1 0 0 1 1 1 1 1 0 0 1 0 1 0 1 0 1 0 1 0 1 1\n",
      " 0 1 1 0 0 1 1 1 1 1 0 1 1 1 0 0 1 0 1 0 0 1 1 0 1 1 0 1 0 1 1 0 0 1 1 1 1\n",
      " 1]\n",
      "<<<<<<<<<<<<<<<<<<<<<<<<<<<<<<<<<<<<<<<<<<<<<<<<<<<<<<<<<<<<<\n",
      "The Neural Network has an accuracy of : 91.2 %\n"
     ]
    }
   ],
   "source": [
    "dev_predictions = make_predictions(X_dev, W1, b1, W2, b2)\n",
    "acc=get_accuracy(dev_predictions, Y_dev)\n",
    "print(\"<<<<<<<<<<<<<<<<<<<<<<<<<<<<<<<<<<<<<<<<<<<<<<<<<<<<<<<<<<<<<\")\n",
    "print(\"The Neural Network has an accuracy of :\",acc*100,\"%\")"
   ]
  },
  {
   "cell_type": "code",
   "execution_count": null,
   "id": "aa36cee6",
   "metadata": {},
   "outputs": [],
   "source": []
  }
 ],
 "metadata": {
  "kernelspec": {
   "display_name": "Python 3 (ipykernel)",
   "language": "python",
   "name": "python3"
  },
  "language_info": {
   "codemirror_mode": {
    "name": "ipython",
    "version": 3
   },
   "file_extension": ".py",
   "mimetype": "text/x-python",
   "name": "python",
   "nbconvert_exporter": "python",
   "pygments_lexer": "ipython3",
   "version": "3.10.9"
  }
 },
 "nbformat": 4,
 "nbformat_minor": 5
}
