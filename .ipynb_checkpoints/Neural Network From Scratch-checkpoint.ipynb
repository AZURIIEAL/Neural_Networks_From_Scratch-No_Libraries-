{
 "cells": [
  {
   "cell_type": "markdown",
   "id": "b02cc0c8",
   "metadata": {},
   "source": [
    "# Neural Networks"
   ]
  },
  {
   "cell_type": "markdown",
   "id": "e4b2c383",
   "metadata": {},
   "source": [
    "In this notebook, I implemented a simple two-layer neural network and trained it on the MNIST digit recognizer dataset, through which you can understand the underlying math of neural networks better.\n",
    "Our NN will have a simple two-layer architecture. Input layer  a[0]\n",
    "  will have 784 units corresponding to the 784 pixels in each 28x28 input image. A hidden layer  a[1]\n",
    "  will have 10 units with ReLU activation, and finally our output layer  a[2]\n",
    "  will have 10 units corresponding to the ten digit classes with softmax activation.\n",
    "  "
   ]
  },
  {
   "cell_type": "code",
   "execution_count": 2,
   "id": "16aae424",
   "metadata": {},
   "outputs": [],
   "source": [
    "#importing the required dependencies,numpy for  linear algebra,pandas for working with data and matplotlib for visualizations.\n",
    "import numpy as np\n",
    "import pandas as pd\n",
    "from matplotlib import pyplot as plt"
   ]
  },
  {
   "cell_type": "markdown",
   "id": "d8ef42a0",
   "metadata": {},
   "source": [
    "Download the respective dataset from the given link/search digit recognizer in kaggle.\n",
    "https://www.kaggle.com/datasets/animatronbot/mnist-digit-recognizer?resource=download"
   ]
  },
  {
   "cell_type": "code",
   "execution_count": 3,
   "id": "b5c94c37",
   "metadata": {},
   "outputs": [],
   "source": [
    "data = pd.read_csv('MNIST_data/train.csv') #load the MNIST data."
   ]
  },
  {
   "cell_type": "code",
   "execution_count": 4,
   "id": "5f34e282",
   "metadata": {},
   "outputs": [
    {
     "data": {
      "text/html": [
       "<div>\n",
       "<style scoped>\n",
       "    .dataframe tbody tr th:only-of-type {\n",
       "        vertical-align: middle;\n",
       "    }\n",
       "\n",
       "    .dataframe tbody tr th {\n",
       "        vertical-align: top;\n",
       "    }\n",
       "\n",
       "    .dataframe thead th {\n",
       "        text-align: right;\n",
       "    }\n",
       "</style>\n",
       "<table border=\"1\" class=\"dataframe\">\n",
       "  <thead>\n",
       "    <tr style=\"text-align: right;\">\n",
       "      <th></th>\n",
       "      <th>label</th>\n",
       "      <th>pixel0</th>\n",
       "      <th>pixel1</th>\n",
       "      <th>pixel2</th>\n",
       "      <th>pixel3</th>\n",
       "      <th>pixel4</th>\n",
       "      <th>pixel5</th>\n",
       "      <th>pixel6</th>\n",
       "      <th>pixel7</th>\n",
       "      <th>pixel8</th>\n",
       "      <th>...</th>\n",
       "      <th>pixel774</th>\n",
       "      <th>pixel775</th>\n",
       "      <th>pixel776</th>\n",
       "      <th>pixel777</th>\n",
       "      <th>pixel778</th>\n",
       "      <th>pixel779</th>\n",
       "      <th>pixel780</th>\n",
       "      <th>pixel781</th>\n",
       "      <th>pixel782</th>\n",
       "      <th>pixel783</th>\n",
       "    </tr>\n",
       "  </thead>\n",
       "  <tbody>\n",
       "    <tr>\n",
       "      <th>0</th>\n",
       "      <td>1</td>\n",
       "      <td>0</td>\n",
       "      <td>0</td>\n",
       "      <td>0</td>\n",
       "      <td>0</td>\n",
       "      <td>0</td>\n",
       "      <td>0</td>\n",
       "      <td>0</td>\n",
       "      <td>0</td>\n",
       "      <td>0</td>\n",
       "      <td>...</td>\n",
       "      <td>0</td>\n",
       "      <td>0</td>\n",
       "      <td>0</td>\n",
       "      <td>0</td>\n",
       "      <td>0</td>\n",
       "      <td>0</td>\n",
       "      <td>0</td>\n",
       "      <td>0</td>\n",
       "      <td>0</td>\n",
       "      <td>0</td>\n",
       "    </tr>\n",
       "    <tr>\n",
       "      <th>1</th>\n",
       "      <td>0</td>\n",
       "      <td>0</td>\n",
       "      <td>0</td>\n",
       "      <td>0</td>\n",
       "      <td>0</td>\n",
       "      <td>0</td>\n",
       "      <td>0</td>\n",
       "      <td>0</td>\n",
       "      <td>0</td>\n",
       "      <td>0</td>\n",
       "      <td>...</td>\n",
       "      <td>0</td>\n",
       "      <td>0</td>\n",
       "      <td>0</td>\n",
       "      <td>0</td>\n",
       "      <td>0</td>\n",
       "      <td>0</td>\n",
       "      <td>0</td>\n",
       "      <td>0</td>\n",
       "      <td>0</td>\n",
       "      <td>0</td>\n",
       "    </tr>\n",
       "    <tr>\n",
       "      <th>2</th>\n",
       "      <td>1</td>\n",
       "      <td>0</td>\n",
       "      <td>0</td>\n",
       "      <td>0</td>\n",
       "      <td>0</td>\n",
       "      <td>0</td>\n",
       "      <td>0</td>\n",
       "      <td>0</td>\n",
       "      <td>0</td>\n",
       "      <td>0</td>\n",
       "      <td>...</td>\n",
       "      <td>0</td>\n",
       "      <td>0</td>\n",
       "      <td>0</td>\n",
       "      <td>0</td>\n",
       "      <td>0</td>\n",
       "      <td>0</td>\n",
       "      <td>0</td>\n",
       "      <td>0</td>\n",
       "      <td>0</td>\n",
       "      <td>0</td>\n",
       "    </tr>\n",
       "    <tr>\n",
       "      <th>3</th>\n",
       "      <td>4</td>\n",
       "      <td>0</td>\n",
       "      <td>0</td>\n",
       "      <td>0</td>\n",
       "      <td>0</td>\n",
       "      <td>0</td>\n",
       "      <td>0</td>\n",
       "      <td>0</td>\n",
       "      <td>0</td>\n",
       "      <td>0</td>\n",
       "      <td>...</td>\n",
       "      <td>0</td>\n",
       "      <td>0</td>\n",
       "      <td>0</td>\n",
       "      <td>0</td>\n",
       "      <td>0</td>\n",
       "      <td>0</td>\n",
       "      <td>0</td>\n",
       "      <td>0</td>\n",
       "      <td>0</td>\n",
       "      <td>0</td>\n",
       "    </tr>\n",
       "    <tr>\n",
       "      <th>4</th>\n",
       "      <td>0</td>\n",
       "      <td>0</td>\n",
       "      <td>0</td>\n",
       "      <td>0</td>\n",
       "      <td>0</td>\n",
       "      <td>0</td>\n",
       "      <td>0</td>\n",
       "      <td>0</td>\n",
       "      <td>0</td>\n",
       "      <td>0</td>\n",
       "      <td>...</td>\n",
       "      <td>0</td>\n",
       "      <td>0</td>\n",
       "      <td>0</td>\n",
       "      <td>0</td>\n",
       "      <td>0</td>\n",
       "      <td>0</td>\n",
       "      <td>0</td>\n",
       "      <td>0</td>\n",
       "      <td>0</td>\n",
       "      <td>0</td>\n",
       "    </tr>\n",
       "  </tbody>\n",
       "</table>\n",
       "<p>5 rows × 785 columns</p>\n",
       "</div>"
      ],
      "text/plain": [
       "   label  pixel0  pixel1  pixel2  pixel3  pixel4  pixel5  pixel6  pixel7  \\\n",
       "0      1       0       0       0       0       0       0       0       0   \n",
       "1      0       0       0       0       0       0       0       0       0   \n",
       "2      1       0       0       0       0       0       0       0       0   \n",
       "3      4       0       0       0       0       0       0       0       0   \n",
       "4      0       0       0       0       0       0       0       0       0   \n",
       "\n",
       "   pixel8  ...  pixel774  pixel775  pixel776  pixel777  pixel778  pixel779  \\\n",
       "0       0  ...         0         0         0         0         0         0   \n",
       "1       0  ...         0         0         0         0         0         0   \n",
       "2       0  ...         0         0         0         0         0         0   \n",
       "3       0  ...         0         0         0         0         0         0   \n",
       "4       0  ...         0         0         0         0         0         0   \n",
       "\n",
       "   pixel780  pixel781  pixel782  pixel783  \n",
       "0         0         0         0         0  \n",
       "1         0         0         0         0  \n",
       "2         0         0         0         0  \n",
       "3         0         0         0         0  \n",
       "4         0         0         0         0  \n",
       "\n",
       "[5 rows x 785 columns]"
      ]
     },
     "execution_count": 4,
     "metadata": {},
     "output_type": "execute_result"
    }
   ],
   "source": [
    "data.head() #Getting an overview of how the dataframe looks."
   ]
  },
  {
   "cell_type": "markdown",
   "id": "7c2c20da",
   "metadata": {},
   "source": [
    "Since this is now a dataframe,we need to convert this to a numpy array for flexibilty ie;for using linear algebra."
   ]
  },
  {
   "cell_type": "code",
   "execution_count": 5,
   "id": "29811e36",
   "metadata": {},
   "outputs": [],
   "source": [
    "data = np.array(data) #passsing the new numpyfied data to the new data variable."
   ]
  },
  {
   "cell_type": "markdown",
   "id": "0a42308f",
   "metadata": {},
   "source": [
    "Now set the dimensions of the data in Row X Coloumn way"
   ]
  },
  {
   "cell_type": "code",
   "execution_count": 6,
   "id": "2409d5e6",
   "metadata": {},
   "outputs": [],
   "source": [
    "m,n=data.shape # mxn RowxCol."
   ]
  },
  {
   "cell_type": "code",
   "execution_count": 7,
   "id": "f60e3fad",
   "metadata": {},
   "outputs": [
    {
     "name": "stdout",
     "output_type": "stream",
     "text": [
      "42000 785\n"
     ]
    }
   ],
   "source": [
    "print(m,n) #m denoting the total data and n denoting the pixels per data."
   ]
  },
  {
   "cell_type": "markdown",
   "id": "2d5fe3d5",
   "metadata": {},
   "source": [
    "here its showing 785 as there is an extra row in the top stating the pixel number"
   ]
  },
  {
   "cell_type": "markdown",
   "id": "9937d2d6",
   "metadata": {},
   "source": [
    "Now we need to shuffle our data and then do a train-test sets seperation"
   ]
  },
  {
   "cell_type": "code",
   "execution_count": 8,
   "id": "b29d7b28",
   "metadata": {},
   "outputs": [],
   "source": [
    "np.random.shuffle(data) # shuffle before splitting into dev and training sets.\n",
    "\n",
    "#This is the Cross-Validation split\n",
    "data_dev = data[0:1000].T #Transposing the data from row vector to coloumn vector.\n",
    "Y_dev = data_dev[0] #Now this would be the first Row(the output/the label/the aim).\n",
    "X_dev = data_dev[1:n] #Now this is the data part after seperating the label hence the 1:n(n from the dimension).\n",
    "X_dev = X_dev / 255. #Normalizing the values.\n",
    "\n",
    "#This is the Train Split\n",
    "data_train = data[1000:m].T #Transposing the data from row vector to coloumn vector.\n",
    "Y_train = data_train[0] #Now this would be the first Row(the output/the label/the aim).\n",
    "X_train = data_train[1:n] #Now this is the data part after seperating the label hence the 1:n(n from the dimension).\n",
    "X_train = X_train / 255. #Normalization\n",
    "_,m_train = X_train.shape"
   ]
  },
  {
   "cell_type": "markdown",
   "id": "bc367f8a",
   "metadata": {},
   "source": [
    "As the train test split has been done we need to check to see some data"
   ]
  },
  {
   "cell_type": "code",
   "execution_count": 9,
   "id": "44bcb3d1",
   "metadata": {},
   "outputs": [
    {
     "name": "stdout",
     "output_type": "stream",
     "text": [
      "The Y_Train data:[8 9 3 ... 7 3 3]\n",
      "The X_train data:[0. 0. 0. ... 0. 0. 0.]\n",
      "The X_train data shape:(784,)\n"
     ]
    }
   ],
   "source": [
    "print(f\"The Y_Train data:{Y_train}\")\n",
    "print(f\"The X_train data:{X_train[0]}\") #Just checking the 0th pos as its a big array.\n",
    "print(f\"The X_train data shape:{X_train[:,0].shape}\") #Checking the shape to see the total pixel points are there."
   ]
  },
  {
   "cell_type": "markdown",
   "id": "dd0214cb",
   "metadata": {},
   "source": [
    "Now the steps with the data are over,lets proceed to creating some functions for the neural network for doing a gradient descent."
   ]
  },
  {
   "cell_type": "markdown",
   "id": "21aeea1f",
   "metadata": {},
   "source": [
    "Basic Weights and Biases."
   ]
  },
  {
   "cell_type": "code",
   "execution_count": 12,
   "id": "15b99cbf",
   "metadata": {},
   "outputs": [],
   "source": [
    "def init_params(): #1\n",
    "    W1 = np.random.rand(10, 784) - 0.5 #Making a matrix with 10x784 dimensions ranging from -0.5 to 0.5 for w1\n",
    "    b1 = np.random.rand(10, 1) - 0.5  #Making a matrix with 10x1 dimensions ranging from -0.5 to 0.5 for b1\n",
    "    W2 = np.random.rand(10, 10) - 0.5 #Making a matrix with 10x10 dimensions ranging from -0.5 to 0.5 for w2\n",
    "    b2 = np.random.rand(10, 1) - 0.5 #Making a matrix with 10x1 dimensions ranging from -0.5 to 0.5 for b2\n",
    "    return W1, b1, W2, b2"
   ]
  },
  {
   "cell_type": "markdown",
   "id": "0cc82565",
   "metadata": {},
   "source": [
    "ReLu(Rectified Linear Unit Function):\n",
    "It interprets the positive part of its argument and is a piecewise linear function that will output the input directly if it is positive, otherwise, it will output zero. It has become the default activation function for many types of neural networks because a model that uses it is easier to train and often achieves better performance."
   ]
  },
  {
   "cell_type": "code",
   "execution_count": 11,
   "id": "0523198b",
   "metadata": {},
   "outputs": [],
   "source": [
    "#Needed in the forward Propogation\n",
    "def ReLU(Z): #3\n",
    "    return np.maximum(Z, 0) #Just selecting the max function."
   ]
  },
  {
   "cell_type": "markdown",
   "id": "6fe4b402",
   "metadata": {},
   "source": [
    "Softmax Function:\n",
    "The softmax function is a generalization of the logistic function used in multinomial logistic regression. It takes as input a vector z of K real numbers, and normalizes it into a probability distribution consisting of K probabilities proportional to the exponentials of the exponentials of the input numbers. The input values can be positive, negative, zero, or greater than one but the softmax transforms them into values between 0 and 1 so that they can be interpreted as probabilites."
   ]
  },
  {
   "cell_type": "code",
   "execution_count": 27,
   "id": "84bb2a0e",
   "metadata": {},
   "outputs": [],
   "source": [
    "#Needed in the forward Propogation\n",
    "def softmax(Z): #4\n",
    "    A = np.exp(Z) / sum(np.exp(Z))\n",
    "    return A"
   ]
  },
  {
   "cell_type": "markdown",
   "id": "730aa03a",
   "metadata": {},
   "source": [
    "Forward Propogation Function:\n",
    "Forward Propagation is a technique used in neural networks to find the actual output of each neuron.It involves input data being fed in a forward direction to generate an output which is accepted by hidden layers and processed, as per the activation function."
   ]
  },
  {
   "cell_type": "code",
   "execution_count": 13,
   "id": "fbf48718",
   "metadata": {},
   "outputs": [],
   "source": [
    "def forward_prop(W1, b1, W2, b2, X): #2\n",
    "    Z1 = W1.dot(X) + b1 #Z1 is the non-active set of neurons.X is the input as its the input layer.\n",
    "    A1 = ReLU(Z1) #A1 is the activation function to pass the values\n",
    "    Z2 = W2.dot(A1) + b2 #Z2 its the second layer,which takes the dot product from A1 ie;prev output from neuron.\n",
    "    A2 = softmax(Z2) #A2 has softmax applied data for further classification.\n",
    "    return Z1, A1, Z2, A2\n"
   ]
  },
  {
   "cell_type": "markdown",
   "id": "8a060312",
   "metadata": {},
   "source": [
    "ReLu Derivative Function:As we need to apply the gradient descent we need to revert the made changes,hence the derivate is needed."
   ]
  },
  {
   "cell_type": "code",
   "execution_count": 29,
   "id": "0707b3f6",
   "metadata": {},
   "outputs": [],
   "source": [
    "#Needed in the BackPropogation to undo the applied functions.\n",
    "def ReLU_deriv(Z):#7\n",
    "    return Z > 0"
   ]
  },
  {
   "cell_type": "markdown",
   "id": "e8952027",
   "metadata": {},
   "source": [
    "One-Hot Function:One Hot Encoding is a process by which categorical data variables are converted into numerical values that can be used by ML algorithms to do a better job in prediction.It is also referred to as one-of-K scheme and presupposes VW > Acura > Honda based on the categorical values."
   ]
  },
  {
   "cell_type": "code",
   "execution_count": 30,
   "id": "7bb03354",
   "metadata": {},
   "outputs": [],
   "source": [
    "#for backward propogation\n",
    "def one_hot(Y): #6\n",
    "    one_hot_Y = np.zeros((Y.size, Y.max() + 1)) #To create an empty matrix(filled with 0)\n",
    "    one_hot_Y[np.arange(Y.size), Y] = 1 #Setting the respective values as needed.\n",
    "    one_hot_Y = one_hot_Y.T #Transposing the matrix\n",
    "    return one_hot_Y\n"
   ]
  },
  {
   "cell_type": "markdown",
   "id": "84b82a3a",
   "metadata": {},
   "source": [
    "Backward-Propogation Function: Backward Propagation is a process used in neural network training which involves taking the error rate of a forward propagation and feeding this loss backward through the neural network layers to fine-tune the weights.It evaluates the expression for the derivative of the cost function as a product of derivatives between each layer from right to left – \"backwards\" – with the gradient of the weights between each layer being a simple modification of the partial products (“backwards propagated error”)."
   ]
  },
  {
   "cell_type": "code",
   "execution_count": 50,
   "id": "fd9cf321",
   "metadata": {},
   "outputs": [],
   "source": [
    "def backward_prop(Z1, A1, Z2, A2, W1, W2, X, Y): #5\n",
    "    one_hot_Y = one_hot(Y)\n",
    "    \n",
    "    dZ2 = A2 - one_hot_Y #To find the error.\n",
    "    dW2 = 1 / m * dZ2.dot(A1.T)\n",
    "    db2 = 1 / m * np.sum(dZ2)\n",
    "    \n",
    "    dZ1 = W2.T.dot(dZ2) * ReLU_deriv(Z1) #Revert changes.\n",
    "    dW1 = 1 / m * dZ1.dot(X.T)\n",
    "    db1 = 1 / m * np.sum(dZ1)\n",
    "    \n",
    "    return dW1, db1, dW2, db2"
   ]
  },
  {
   "cell_type": "markdown",
   "id": "a4074fe6",
   "metadata": {},
   "source": [
    "A Function to update the parameters."
   ]
  },
  {
   "cell_type": "code",
   "execution_count": 42,
   "id": "510ebe55",
   "metadata": {},
   "outputs": [],
   "source": [
    "def update_params(W1, b1, W2, b2, dW1, db1, dW2, db2, alpha): #Alpha would act as the learning parameter.\n",
    "    W1 = W1 - alpha * dW1\n",
    "    b1 = b1 - alpha * db1    \n",
    "    W2 = W2 - alpha * dW2  \n",
    "    b2 = b2 - alpha * db2    \n",
    "    return W1, b1, W2, b2\n"
   ]
  },
  {
   "cell_type": "markdown",
   "id": "73ddd867",
   "metadata": {},
   "source": [
    "All of these would be the required funtions function to proceed to make a Gradient Descent Function."
   ]
  },
  {
   "cell_type": "code",
   "execution_count": 43,
   "id": "b609dee7",
   "metadata": {},
   "outputs": [],
   "source": [
    "def get_predictions(A2):\n",
    "    return np.argmax(A2, 0) #on the Xaxis\n"
   ]
  },
  {
   "cell_type": "code",
   "execution_count": 44,
   "id": "fa362a21",
   "metadata": {},
   "outputs": [],
   "source": [
    "def get_accuracy(predictions, Y):\n",
    "    print(predictions, Y)\n",
    "    return np.sum(predictions == Y) / Y.size"
   ]
  },
  {
   "cell_type": "code",
   "execution_count": 18,
   "id": "e52374ca",
   "metadata": {},
   "outputs": [
    {
     "name": "stdout",
     "output_type": "stream",
     "text": [
      "[[-0.35382749 -0.41252061 -0.13435341 ... -0.13217371 -0.2115601\n",
      "   0.22742259]\n",
      " [ 0.12729663 -0.32408252  0.02327602 ... -0.1608648   0.20723397\n",
      "  -0.24709637]\n",
      " [-0.17055182 -0.4695127  -0.18715338 ... -0.01074792  0.42272814\n",
      "  -0.01237415]\n",
      " ...\n",
      " [ 0.24509186  0.37959126 -0.2765367  ... -0.19180044  0.27837983\n",
      "   0.22601405]\n",
      " [ 0.34571592 -0.32887577  0.1307247  ... -0.29172515  0.09643995\n",
      "  -0.19684677]\n",
      " [ 0.31238214  0.34429131 -0.06503206 ...  0.45074305  0.30001192\n",
      "   0.12145905]]\n",
      ">>>>>>>>>>>>>>>>>>>>>>>>>>>>>>>>>>>>>>>>>>>>>>>>>>>>>>>>>>>>>>>>>>>>>>>>>>\n",
      "[[-0.35382749  0.12729663 -0.17055182 ...  0.24509186  0.34571592\n",
      "   0.31238214]\n",
      " [-0.41252061 -0.32408252 -0.4695127  ...  0.37959126 -0.32887577\n",
      "   0.34429131]\n",
      " [-0.13435341  0.02327602 -0.18715338 ... -0.2765367   0.1307247\n",
      "  -0.06503206]\n",
      " ...\n",
      " [-0.13217371 -0.1608648  -0.01074792 ... -0.19180044 -0.29172515\n",
      "   0.45074305]\n",
      " [-0.2115601   0.20723397  0.42272814 ...  0.27837983  0.09643995\n",
      "   0.30001192]\n",
      " [ 0.22742259 -0.24709637 -0.01237415 ...  0.22601405 -0.19684677\n",
      "   0.12145905]]\n",
      ">>>>>>>>>>>>>>>>>>>>>>>>>>>>>>>>>>>>>>>>>>>>>>>>>>>>>>>>>>>>>>>>>>>>>>>>>>\n",
      "[[ 6.71785035e+01 -9.02697593e-01  4.60330010e+00  6.82932715e-01\n",
      "  -2.21974731e-01 -4.59469004e+00  1.13971577e+00 -2.89691651e-01\n",
      "  -2.49359701e+00 -7.93790004e-01]\n",
      " [-9.09600164e-01  6.46077655e+01 -1.98119830e-01  2.11728553e+00\n",
      "  -2.33413024e+00 -9.44560327e-01 -2.14624376e-01  2.19851235e+00\n",
      "  -2.70450788e+00 -2.87640168e-01]\n",
      " [ 4.94870441e+00  1.54187055e-01  6.58575106e+01  3.71007101e+00\n",
      "  -1.64186198e+00  1.96100552e+00 -1.39047385e+00  2.82751380e+00\n",
      "   1.60475706e+00  4.17361658e-01]\n",
      " [ 3.06082131e-01  1.74733751e+00  2.98781611e+00  6.47201732e+01\n",
      "   2.71492448e+00 -1.65180316e+00 -2.17065462e-01  2.38205190e-01\n",
      "  -1.18408158e+00 -4.40125554e-01]\n",
      " [-9.31531321e-02 -2.19840607e+00 -1.85844470e+00  3.22059666e+00\n",
      "   6.62545168e+01  1.87921621e+00  1.97969936e+00 -7.49958491e-01\n",
      "   3.62511341e+00 -2.99915670e+00]\n",
      " [-5.11465375e+00 -1.45762146e+00  1.09563750e+00 -1.79491629e+00\n",
      "   1.23043090e+00  6.32344184e+01 -6.03044449e+00  1.30922594e+00\n",
      "   2.60545192e+00 -2.79165721e+00]\n",
      " [ 9.99054732e-01 -3.48382844e-01 -1.87653920e+00  1.91240830e-02\n",
      "   1.71021673e+00 -5.65114182e+00  6.53933826e+01 -7.52033435e+00\n",
      "   6.62134187e-01 -2.11944738e+00]\n",
      " [-4.78193982e-01  2.01691259e+00  2.29360716e+00  4.26553442e-01\n",
      "  -1.06728242e+00  1.64068732e+00 -7.56817564e+00  6.72168773e+01\n",
      "   1.92291227e+00 -4.74332336e-01]\n",
      " [-2.19607613e+00 -2.40008443e+00  1.55687362e+00 -5.09710114e-01\n",
      "   3.79381270e+00  3.42293651e+00  1.10031611e+00  2.40893548e+00\n",
      "   6.35212937e+01  3.40337985e+00]\n",
      " [-1.28288247e+00 -7.69830067e-01 -4.17135126e-01 -5.52367441e-01\n",
      "  -3.61707077e+00 -2.76078597e+00 -2.46787881e+00 -7.74922475e-01\n",
      "   2.61676650e+00  6.32659937e+01]]\n",
      ">>>>>>>>>>>>>>>>>>>>>>>>>>>>>>>>>>>>>>>>>>>>>>>>>>>>>>>>>>>>>>>>>>>>>>>>>>\n",
      "[[-1.42796828e-01  3.88135935e-01 -1.06468708e-01 -3.54467845e-01\n",
      "   4.13119732e-01  1.73712590e-01 -2.72757676e-01 -2.66650692e-01\n",
      "   4.27229785e-01 -1.08839541e-01]\n",
      " [-3.91948819e-01  2.07433102e-01 -2.39752625e-01 -7.45264479e-02\n",
      "   2.01795544e-01 -2.09870901e-01  3.20552764e-01 -3.76901314e-01\n",
      "  -4.83435631e-01 -2.92123795e-01]\n",
      " [ 2.32456194e-01  6.27294647e-02  3.03995338e-01 -1.68595024e-01\n",
      "  -4.33271618e-01 -1.45596819e-01 -2.15564389e-01  3.26306053e-01\n",
      "   2.78858966e-01 -3.65978563e-01]\n",
      " [-3.20344763e-01  4.94955325e-01 -1.95441537e-01 -2.60075304e-01\n",
      "   2.21400772e-01 -1.07760450e-01  3.03990832e-01 -2.94398176e-01\n",
      "  -2.83326110e-01 -2.67319633e-01]\n",
      " [-3.43697404e-01 -1.66152114e-01  4.22502425e-01  4.51011927e-01\n",
      "   4.26307831e-01 -1.55992337e-01  6.65683169e-02 -3.23232721e-01\n",
      "  -4.55444671e-01 -2.43142280e-01]\n",
      " [ 2.41971127e-01 -2.74902028e-02 -4.43262210e-03  1.82590021e-01\n",
      "   7.58950332e-02 -4.12513933e-01  1.58474811e-01 -1.60615044e-01\n",
      "   3.64980396e-01  1.61023820e-01]\n",
      " [ 3.38694140e-01 -4.85306073e-01 -4.61595072e-01 -4.24943244e-01\n",
      "   1.17436798e-02 -1.08789164e-04 -2.65126953e-01  1.40524833e-01\n",
      "  -6.92807894e-02  3.21860886e-01]\n",
      " [-4.70400539e-02  4.24510882e-01 -4.58620593e-01  3.91874384e-02\n",
      "  -2.59112215e-01  2.58889894e-01  5.29302139e-02  2.86477869e-01\n",
      "  -3.52037500e-02 -4.78667654e-01]\n",
      " [-2.37103439e-01 -3.76541389e-01  1.21704947e-02  2.36295738e-01\n",
      "  -2.56817144e-01  4.12155099e-01  1.53814346e-01 -2.96505798e-01\n",
      "  -1.69869591e-01  2.61116151e-01]\n",
      " [ 1.95882745e-01  3.77411540e-01  1.97458630e-01  3.01995829e-01\n",
      "  -1.27145760e-01 -2.62244743e-01 -1.86939284e-01  2.06704634e-01\n",
      "   2.67510065e-01  2.61232476e-01]]\n",
      ">>>>>>>>>>>>>>>>>>>>>>>>>>>>>>>>>>>>>>>>>>>>>>>>>>>>>>>>>>>>>>>>>>>>>>>>>>\n",
      "[[6.71785035e+01 0.00000000e+00 4.60330010e+00 6.82932715e-01\n",
      "  0.00000000e+00 0.00000000e+00 1.13971577e+00 0.00000000e+00\n",
      "  0.00000000e+00 0.00000000e+00]\n",
      " [0.00000000e+00 6.46077655e+01 0.00000000e+00 2.11728553e+00\n",
      "  0.00000000e+00 0.00000000e+00 0.00000000e+00 2.19851235e+00\n",
      "  0.00000000e+00 0.00000000e+00]\n",
      " [4.94870441e+00 1.54187055e-01 6.58575106e+01 3.71007101e+00\n",
      "  0.00000000e+00 1.96100552e+00 0.00000000e+00 2.82751380e+00\n",
      "  1.60475706e+00 4.17361658e-01]\n",
      " [3.06082131e-01 1.74733751e+00 2.98781611e+00 6.47201732e+01\n",
      "  2.71492448e+00 0.00000000e+00 0.00000000e+00 2.38205190e-01\n",
      "  0.00000000e+00 0.00000000e+00]\n",
      " [0.00000000e+00 0.00000000e+00 0.00000000e+00 3.22059666e+00\n",
      "  6.62545168e+01 1.87921621e+00 1.97969936e+00 0.00000000e+00\n",
      "  3.62511341e+00 0.00000000e+00]\n",
      " [0.00000000e+00 0.00000000e+00 1.09563750e+00 0.00000000e+00\n",
      "  1.23043090e+00 6.32344184e+01 0.00000000e+00 1.30922594e+00\n",
      "  2.60545192e+00 0.00000000e+00]\n",
      " [9.99054732e-01 0.00000000e+00 0.00000000e+00 1.91240830e-02\n",
      "  1.71021673e+00 0.00000000e+00 6.53933826e+01 0.00000000e+00\n",
      "  6.62134187e-01 0.00000000e+00]\n",
      " [0.00000000e+00 2.01691259e+00 2.29360716e+00 4.26553442e-01\n",
      "  0.00000000e+00 1.64068732e+00 0.00000000e+00 6.72168773e+01\n",
      "  1.92291227e+00 0.00000000e+00]\n",
      " [0.00000000e+00 0.00000000e+00 1.55687362e+00 0.00000000e+00\n",
      "  3.79381270e+00 3.42293651e+00 1.10031611e+00 2.40893548e+00\n",
      "  6.35212937e+01 3.40337985e+00]\n",
      " [0.00000000e+00 0.00000000e+00 0.00000000e+00 0.00000000e+00\n",
      "  0.00000000e+00 0.00000000e+00 0.00000000e+00 0.00000000e+00\n",
      "  2.61676650e+00 6.32659937e+01]]\n",
      "[[-10.4297511   23.97399765  -8.41330419 -21.3294134   27.84779554\n",
      "   12.64806458 -16.64034982 -16.12798065  28.01038655  -5.40524804]\n",
      " [-27.07280381  12.62118024 -19.5167369   -4.89932204  11.77020904\n",
      "  -15.48839218  20.5296394  -26.86631764 -32.03863962 -20.08012322]\n",
      " [ 17.30716516   4.91690844  22.06344299 -10.298728   -28.20010703\n",
      "   -7.48123455 -13.92877772  23.82539775  16.23204897 -21.62437113]\n",
      " [-22.24873043  30.91424305 -16.34276175 -16.12011856  13.28976327\n",
      "   -8.21955932  19.65508021 -20.12388802 -18.83873651 -17.94344366]\n",
      " [-20.70467073 -10.44441969  26.05802141  31.49594776  27.75233419\n",
      "  -10.23469776   4.39325311 -22.00226803 -28.23814005 -16.66733806]\n",
      " [ 16.64030969  -1.58888946   1.30813914  12.27957955   6.86500519\n",
      "  -24.77258751  11.38360012 -10.29360373  22.7874759   11.62042355]\n",
      " [ 20.25218869 -31.70634127 -29.71725105 -29.74001968  -0.91354905\n",
      "   -0.71812254 -16.8260504    6.98372822  -3.98389783  20.11287254]\n",
      " [ -5.17362782  28.19341627 -29.22600022   1.18125841 -16.59429626\n",
      "   15.52514246   3.0471295   19.34731619  -3.71243555 -30.4034516 ]\n",
      " [-15.31627916 -24.18500712   0.24885972  13.7541967  -15.92228784\n",
      "   24.86146533   9.41863092 -20.21117433 -10.08722332  16.27247352]\n",
      " [ 14.29704517  25.61385386  15.66650046  21.14087913  -6.9764845\n",
      "  -14.92470491 -11.70360806  15.91021295  17.37765321  17.7750804 ]]\n"
     ]
    }
   ],
   "source": [
    "\n",
    "W1, b1, W2, b2 = init_params()\n",
    "X=W1.T\n",
    "Z1 = W1.dot(X) + b1 #Z1 is the non-active set of neurons.X is the input as its the input layer.\n",
    "print(W1)\n",
    "print(\">>>>>>>>>>>>>>>>>>>>>>>>>>>>>>>>>>>>>>>>>>>>>>>>>>>>>>>>>>>>>>>>>>>>>>>>>>\")\n",
    "print(X)\n",
    "print(\">>>>>>>>>>>>>>>>>>>>>>>>>>>>>>>>>>>>>>>>>>>>>>>>>>>>>>>>>>>>>>>>>>>>>>>>>>\")\n",
    "print(Z1)\n",
    "print(\">>>>>>>>>>>>>>>>>>>>>>>>>>>>>>>>>>>>>>>>>>>>>>>>>>>>>>>>>>>>>>>>>>>>>>>>>>\")\n",
    "A1 = ReLU(Z1) #A1 is the activation function to pass the values\n",
    "print(W2)\n",
    "print(\">>>>>>>>>>>>>>>>>>>>>>>>>>>>>>>>>>>>>>>>>>>>>>>>>>>>>>>>>>>>>>>>>>>>>>>>>>\")\n",
    "print(A1)\n",
    "Z2 = W2.dot(A1) + b2#Z2 its the second layer,which takes the dot product from A1 ie;prev output from neuron.\n",
    "print(Z2)"
   ]
  },
  {
   "cell_type": "markdown",
   "id": "771af8e0",
   "metadata": {},
   "source": [
    "Defining the Gradient Descent "
   ]
  },
  {
   "cell_type": "code",
   "execution_count": 56,
   "id": "b81f5fa5",
   "metadata": {},
   "outputs": [],
   "source": [
    "def gradient_descent(X, Y, alpha, iterations):\n",
    "    \n",
    "    W1, b1, W2, b2 = init_params()\n",
    "    \n",
    "    for i in range(iterations):\n",
    "        Z1, A1, Z2, A2 = forward_prop(W1, b1, W2, b2, X)\n",
    "        dW1, db1, dW2, db2 = backward_prop(Z1, A1, Z2, A2, W1, W2, X, Y)\n",
    "        W1, b1, W2, b2 = update_params(W1, b1, W2, b2, dW1, db1, dW2, db2, alpha)\n",
    "        if i % 10 == 0: #setting the denoter to occur every 10 steps.\n",
    "            print(\"Iteration: \", i)\n",
    "            predictions = get_predictions(A2)\n",
    "            print(get_accuracy(predictions, Y))\n",
    "    return W1, b1, W2, b2"
   ]
  },
  {
   "cell_type": "markdown",
   "id": "8a3d57b5",
   "metadata": {},
   "source": [
    "To Run The Gradient descent set an alpha rate and an iteration."
   ]
  },
  {
   "cell_type": "code",
   "execution_count": 57,
   "id": "42b94377",
   "metadata": {},
   "outputs": [
    {
     "name": "stdout",
     "output_type": "stream",
     "text": [
      "Iteration:  0\n",
      "[6 6 5 ... 4 6 5] [5 7 8 ... 8 2 2]\n",
      "0.11917073170731707\n",
      "Iteration:  10\n",
      "[0 4 9 ... 4 4 3] [5 7 8 ... 8 2 2]\n",
      "0.2058780487804878\n",
      "Iteration:  20\n",
      "[0 4 9 ... 2 4 3] [5 7 8 ... 8 2 2]\n",
      "0.30390243902439024\n",
      "Iteration:  30\n",
      "[0 4 3 ... 2 2 3] [5 7 8 ... 8 2 2]\n",
      "0.37814634146341464\n",
      "Iteration:  40\n",
      "[0 8 3 ... 2 2 6] [5 7 8 ... 8 2 2]\n",
      "0.4399512195121951\n",
      "Iteration:  50\n",
      "[0 8 3 ... 2 2 6] [5 7 8 ... 8 2 2]\n",
      "0.4870731707317073\n",
      "Iteration:  60\n",
      "[0 8 2 ... 2 2 3] [5 7 8 ... 8 2 2]\n",
      "0.5259024390243903\n",
      "Iteration:  70\n",
      "[0 8 2 ... 2 2 2] [5 7 8 ... 8 2 2]\n",
      "0.561\n",
      "Iteration:  80\n",
      "[5 8 2 ... 2 2 2] [5 7 8 ... 8 2 2]\n",
      "0.5890975609756097\n",
      "Iteration:  90\n",
      "[5 8 2 ... 2 2 2] [5 7 8 ... 8 2 2]\n",
      "0.6133414634146341\n",
      "Iteration:  100\n",
      "[5 8 2 ... 2 2 2] [5 7 8 ... 8 2 2]\n",
      "0.6348780487804878\n",
      "Iteration:  110\n",
      "[5 8 2 ... 8 2 2] [5 7 8 ... 8 2 2]\n",
      "0.6549024390243903\n",
      "Iteration:  120\n",
      "[5 8 2 ... 8 2 2] [5 7 8 ... 8 2 2]\n",
      "0.6718780487804878\n",
      "Iteration:  130\n",
      "[5 8 2 ... 8 2 2] [5 7 8 ... 8 2 2]\n",
      "0.6884390243902438\n",
      "Iteration:  140\n",
      "[5 9 2 ... 8 2 2] [5 7 8 ... 8 2 2]\n",
      "0.7029756097560975\n",
      "Iteration:  150\n",
      "[5 9 8 ... 8 2 2] [5 7 8 ... 8 2 2]\n",
      "0.7155609756097561\n",
      "Iteration:  160\n",
      "[5 9 8 ... 8 2 2] [5 7 8 ... 8 2 2]\n",
      "0.727170731707317\n",
      "Iteration:  170\n",
      "[5 9 8 ... 8 2 2] [5 7 8 ... 8 2 2]\n",
      "0.7368780487804878\n",
      "Iteration:  180\n",
      "[5 9 8 ... 8 2 2] [5 7 8 ... 8 2 2]\n",
      "0.745609756097561\n",
      "Iteration:  190\n",
      "[5 9 8 ... 8 2 2] [5 7 8 ... 8 2 2]\n",
      "0.7533658536585366\n",
      "Iteration:  200\n",
      "[5 9 8 ... 8 2 2] [5 7 8 ... 8 2 2]\n",
      "0.7601951219512195\n",
      "Iteration:  210\n",
      "[5 9 8 ... 8 2 2] [5 7 8 ... 8 2 2]\n",
      "0.7673170731707317\n",
      "Iteration:  220\n",
      "[5 9 8 ... 8 2 2] [5 7 8 ... 8 2 2]\n",
      "0.7739756097560976\n",
      "Iteration:  230\n",
      "[5 9 8 ... 8 2 2] [5 7 8 ... 8 2 2]\n",
      "0.7797317073170732\n",
      "Iteration:  240\n",
      "[5 9 8 ... 8 2 2] [5 7 8 ... 8 2 2]\n",
      "0.7840975609756098\n",
      "Iteration:  250\n",
      "[5 9 8 ... 8 2 2] [5 7 8 ... 8 2 2]\n",
      "0.7890243902439025\n",
      "Iteration:  260\n",
      "[5 9 8 ... 8 2 2] [5 7 8 ... 8 2 2]\n",
      "0.7936585365853659\n",
      "Iteration:  270\n",
      "[5 9 8 ... 8 2 2] [5 7 8 ... 8 2 2]\n",
      "0.7971951219512196\n",
      "Iteration:  280\n",
      "[5 9 8 ... 8 2 2] [5 7 8 ... 8 2 2]\n",
      "0.8007073170731708\n",
      "Iteration:  290\n",
      "[5 9 8 ... 8 2 2] [5 7 8 ... 8 2 2]\n",
      "0.8040243902439025\n",
      "Iteration:  300\n",
      "[5 9 8 ... 8 2 2] [5 7 8 ... 8 2 2]\n",
      "0.8073902439024391\n",
      "Iteration:  310\n",
      "[5 9 8 ... 8 2 2] [5 7 8 ... 8 2 2]\n",
      "0.8113170731707318\n",
      "Iteration:  320\n",
      "[5 9 8 ... 8 2 2] [5 7 8 ... 8 2 2]\n",
      "0.8143414634146341\n",
      "Iteration:  330\n",
      "[5 9 8 ... 8 2 2] [5 7 8 ... 8 2 2]\n",
      "0.8169268292682926\n",
      "Iteration:  340\n",
      "[5 9 8 ... 8 2 2] [5 7 8 ... 8 2 2]\n",
      "0.8194878048780487\n",
      "Iteration:  350\n",
      "[5 9 8 ... 8 2 2] [5 7 8 ... 8 2 2]\n",
      "0.8223414634146341\n",
      "Iteration:  360\n",
      "[5 9 8 ... 8 2 2] [5 7 8 ... 8 2 2]\n",
      "0.8248780487804878\n",
      "Iteration:  370\n",
      "[5 9 8 ... 8 2 2] [5 7 8 ... 8 2 2]\n",
      "0.827390243902439\n",
      "Iteration:  380\n",
      "[5 9 8 ... 8 2 2] [5 7 8 ... 8 2 2]\n",
      "0.8292195121951219\n",
      "Iteration:  390\n",
      "[5 9 8 ... 8 2 2] [5 7 8 ... 8 2 2]\n",
      "0.8316097560975609\n",
      "Iteration:  400\n",
      "[5 9 8 ... 8 2 2] [5 7 8 ... 8 2 2]\n",
      "0.8338780487804878\n",
      "Iteration:  410\n",
      "[5 9 8 ... 8 2 2] [5 7 8 ... 8 2 2]\n",
      "0.8360731707317073\n",
      "Iteration:  420\n",
      "[5 9 8 ... 8 2 2] [5 7 8 ... 8 2 2]\n",
      "0.8378048780487805\n",
      "Iteration:  430\n",
      "[5 9 8 ... 8 2 2] [5 7 8 ... 8 2 2]\n",
      "0.839780487804878\n",
      "Iteration:  440\n",
      "[5 9 8 ... 8 2 2] [5 7 8 ... 8 2 2]\n",
      "0.8414146341463414\n",
      "Iteration:  450\n",
      "[5 9 8 ... 8 2 2] [5 7 8 ... 8 2 2]\n",
      "0.8428292682926829\n",
      "Iteration:  460\n",
      "[5 9 8 ... 8 2 2] [5 7 8 ... 8 2 2]\n",
      "0.8442926829268292\n",
      "Iteration:  470\n",
      "[5 9 8 ... 8 2 2] [5 7 8 ... 8 2 2]\n",
      "0.8459512195121951\n",
      "Iteration:  480\n",
      "[5 9 8 ... 8 2 2] [5 7 8 ... 8 2 2]\n",
      "0.8474146341463414\n",
      "Iteration:  490\n",
      "[5 9 8 ... 8 2 2] [5 7 8 ... 8 2 2]\n",
      "0.8486585365853658\n",
      "Iteration:  500\n",
      "[5 9 8 ... 8 2 2] [5 7 8 ... 8 2 2]\n",
      "0.8495853658536585\n",
      "Iteration:  510\n",
      "[5 9 8 ... 8 2 2] [5 7 8 ... 8 2 2]\n",
      "0.8511219512195122\n",
      "Iteration:  520\n",
      "[5 9 8 ... 8 2 2] [5 7 8 ... 8 2 2]\n",
      "0.8522195121951219\n",
      "Iteration:  530\n",
      "[5 7 8 ... 8 2 2] [5 7 8 ... 8 2 2]\n",
      "0.8531463414634146\n",
      "Iteration:  540\n",
      "[5 7 8 ... 8 2 2] [5 7 8 ... 8 2 2]\n",
      "0.8539024390243902\n",
      "Iteration:  550\n",
      "[5 7 8 ... 8 2 2] [5 7 8 ... 8 2 2]\n",
      "0.8547317073170732\n",
      "Iteration:  560\n",
      "[5 7 8 ... 8 2 2] [5 7 8 ... 8 2 2]\n",
      "0.8555121951219512\n",
      "Iteration:  570\n",
      "[5 7 8 ... 8 2 2] [5 7 8 ... 8 2 2]\n",
      "0.8564634146341463\n",
      "Iteration:  580\n",
      "[5 7 8 ... 8 2 2] [5 7 8 ... 8 2 2]\n",
      "0.8573658536585366\n",
      "Iteration:  590\n",
      "[5 7 8 ... 8 2 2] [5 7 8 ... 8 2 2]\n",
      "0.8582195121951219\n",
      "Iteration:  600\n",
      "[5 7 8 ... 8 2 2] [5 7 8 ... 8 2 2]\n",
      "0.8591463414634146\n",
      "Iteration:  610\n",
      "[5 7 8 ... 8 2 2] [5 7 8 ... 8 2 2]\n",
      "0.8599024390243902\n",
      "Iteration:  620\n",
      "[5 7 8 ... 8 2 2] [5 7 8 ... 8 2 2]\n",
      "0.8608780487804878\n",
      "Iteration:  630\n",
      "[5 7 8 ... 8 2 2] [5 7 8 ... 8 2 2]\n",
      "0.8615365853658536\n",
      "Iteration:  640\n",
      "[5 7 8 ... 8 2 2] [5 7 8 ... 8 2 2]\n",
      "0.8624634146341463\n",
      "Iteration:  650\n",
      "[5 7 8 ... 8 2 2] [5 7 8 ... 8 2 2]\n",
      "0.8631951219512195\n",
      "Iteration:  660\n",
      "[5 7 8 ... 8 2 2] [5 7 8 ... 8 2 2]\n",
      "0.8639268292682927\n",
      "Iteration:  670\n",
      "[5 7 8 ... 8 2 2] [5 7 8 ... 8 2 2]\n",
      "0.8644878048780488\n",
      "Iteration:  680\n",
      "[5 7 8 ... 8 2 2] [5 7 8 ... 8 2 2]\n",
      "0.8650243902439024\n",
      "Iteration:  690\n",
      "[5 7 8 ... 8 2 2] [5 7 8 ... 8 2 2]\n",
      "0.8656341463414634\n",
      "Iteration:  700\n",
      "[5 7 8 ... 8 2 2] [5 7 8 ... 8 2 2]\n",
      "0.8664878048780488\n",
      "Iteration:  710\n",
      "[5 7 8 ... 8 2 2] [5 7 8 ... 8 2 2]\n",
      "0.8669024390243902\n",
      "Iteration:  720\n",
      "[5 7 8 ... 8 2 2] [5 7 8 ... 8 2 2]\n",
      "0.8673658536585366\n",
      "Iteration:  730\n",
      "[5 7 8 ... 8 2 2] [5 7 8 ... 8 2 2]\n",
      "0.8678780487804878\n",
      "Iteration:  740\n",
      "[5 7 8 ... 8 2 2] [5 7 8 ... 8 2 2]\n",
      "0.868609756097561\n",
      "Iteration:  750\n",
      "[5 7 8 ... 8 2 2] [5 7 8 ... 8 2 2]\n",
      "0.8690975609756098\n",
      "Iteration:  760\n",
      "[5 7 8 ... 8 2 2] [5 7 8 ... 8 2 2]\n",
      "0.8696341463414634\n",
      "Iteration:  770\n",
      "[5 7 8 ... 8 2 2] [5 7 8 ... 8 2 2]\n",
      "0.8701463414634146\n",
      "Iteration:  780\n",
      "[5 7 8 ... 8 2 2] [5 7 8 ... 8 2 2]\n",
      "0.8708048780487805\n",
      "Iteration:  790\n",
      "[5 7 8 ... 8 2 2] [5 7 8 ... 8 2 2]\n",
      "0.8711951219512195\n",
      "Iteration:  800\n",
      "[5 7 8 ... 8 2 2] [5 7 8 ... 8 2 2]\n",
      "0.8715853658536585\n",
      "Iteration:  810\n",
      "[5 7 8 ... 8 2 2] [5 7 8 ... 8 2 2]\n",
      "0.8720731707317073\n",
      "Iteration:  820\n",
      "[5 7 8 ... 8 2 2] [5 7 8 ... 8 2 2]\n",
      "0.8726341463414634\n",
      "Iteration:  830\n",
      "[5 7 8 ... 8 2 2] [5 7 8 ... 8 2 2]\n",
      "0.8730975609756098\n",
      "Iteration:  840\n",
      "[5 7 8 ... 8 2 2] [5 7 8 ... 8 2 2]\n",
      "0.8736341463414634\n",
      "Iteration:  850\n",
      "[5 7 8 ... 8 2 2] [5 7 8 ... 8 2 2]\n",
      "0.8740975609756098\n",
      "Iteration:  860\n",
      "[5 7 8 ... 8 2 2] [5 7 8 ... 8 2 2]\n",
      "0.8745853658536585\n",
      "Iteration:  870\n",
      "[5 7 8 ... 8 2 2] [5 7 8 ... 8 2 2]\n",
      "0.8749024390243902\n",
      "Iteration:  880\n",
      "[5 7 8 ... 8 2 2] [5 7 8 ... 8 2 2]\n",
      "0.8752926829268293\n",
      "Iteration:  890\n",
      "[5 7 8 ... 8 2 2] [5 7 8 ... 8 2 2]\n",
      "0.875609756097561\n",
      "Iteration:  900\n",
      "[5 7 8 ... 8 2 2] [5 7 8 ... 8 2 2]\n",
      "0.8761951219512195\n",
      "Iteration:  910\n",
      "[5 7 8 ... 8 2 2] [5 7 8 ... 8 2 2]\n",
      "0.8765121951219512\n",
      "Iteration:  920\n",
      "[5 7 8 ... 8 2 2] [5 7 8 ... 8 2 2]\n",
      "0.8768292682926829\n",
      "Iteration:  930\n",
      "[5 7 8 ... 8 2 2] [5 7 8 ... 8 2 2]\n",
      "0.8772682926829268\n",
      "Iteration:  940\n",
      "[5 7 8 ... 8 2 2] [5 7 8 ... 8 2 2]\n",
      "0.8776341463414634\n",
      "Iteration:  950\n",
      "[5 7 8 ... 8 2 2] [5 7 8 ... 8 2 2]\n",
      "0.8782682926829268\n",
      "Iteration:  960\n",
      "[5 7 8 ... 8 2 2] [5 7 8 ... 8 2 2]\n",
      "0.8786585365853659\n",
      "Iteration:  970\n",
      "[5 7 8 ... 8 2 2] [5 7 8 ... 8 2 2]\n",
      "0.8789756097560976\n",
      "Iteration:  980\n",
      "[5 7 8 ... 8 2 2] [5 7 8 ... 8 2 2]\n",
      "0.8793658536585366\n",
      "Iteration:  990\n",
      "[5 7 8 ... 8 2 2] [5 7 8 ... 8 2 2]\n",
      "0.879609756097561\n"
     ]
    }
   ],
   "source": [
    "W1, b1, W2, b2 = gradient_descent(X_train, Y_train, 0.10, 1000)"
   ]
  },
  {
   "cell_type": "markdown",
   "id": "f47abf55",
   "metadata": {},
   "source": [
    "Now define functions to make predictions and test predictions"
   ]
  },
  {
   "cell_type": "code",
   "execution_count": 58,
   "id": "fbc907e2",
   "metadata": {},
   "outputs": [],
   "source": [
    "def make_predictions(X, W1, b1, W2, b2):\n",
    "    _, _, _, A2 = forward_prop(W1, b1, W2, b2, X)\n",
    "    predictions = get_predictions(A2)\n",
    "    return predictions\n",
    "\n",
    "def test_prediction(index, W1, b1, W2, b2):\n",
    "    current_image = X_train[:, index, None]\n",
    "    prediction = make_predictions(X_train[:, index, None], W1, b1, W2, b2)\n",
    "    label = Y_train[index]\n",
    "    #Setting up the test files.\n",
    "    print(\"Prediction: \", prediction)\n",
    "    print(\"Label: \", label)\n",
    "     #Matplotlib for visualizations.\n",
    "    current_image = current_image.reshape((28, 28)) * 255\n",
    "    plt.gray()\n",
    "    plt.imshow(current_image, interpolation='nearest')\n",
    "    plt.show()"
   ]
  },
  {
   "cell_type": "code",
   "execution_count": 59,
   "id": "7cdb4d9b",
   "metadata": {},
   "outputs": [
    {
     "name": "stdout",
     "output_type": "stream",
     "text": [
      "Prediction:  [5]\n",
      "Label:  5\n"
     ]
    },
    {
     "data": {
      "image/png": "[encoded data removed]",
      "text/plain": [
       "<Figure size 640x480 with 1 Axes>"
      ]
     },
     "metadata": {},
     "output_type": "display_data"
    },
    {
     "name": "stdout",
     "output_type": "stream",
     "text": [
      "Prediction:  [7]\n",
      "Label:  7\n"
     ]
    },
    {
     "data": {
      "image/png": "[encoded data removed]",
      "text/plain": [
       "<Figure size 640x480 with 1 Axes>"
      ]
     },
     "metadata": {},
     "output_type": "display_data"
    },
    {
     "name": "stdout",
     "output_type": "stream",
     "text": [
      "Prediction:  [8]\n",
      "Label:  8\n"
     ]
    },
    {
     "data": {
      "image/png": "[encoded data removed]",
      "text/plain": [
       "<Figure size 640x480 with 1 Axes>"
      ]
     },
     "metadata": {},
     "output_type": "display_data"
    },
    {
     "name": "stdout",
     "output_type": "stream",
     "text": [
      "Prediction:  [1]\n",
      "Label:  1\n"
     ]
    },
    {
     "data": {
      "image/png": "[encoded data removed]",
      "text/plain": [
       "<Figure size 640x480 with 1 Axes>"
      ]
     },
     "metadata": {},
     "output_type": "display_data"
    }
   ],
   "source": [
    "test_prediction(0, W1, b1, W2, b2)\n",
    "test_prediction(1, W1, b1, W2, b2)\n",
    "test_prediction(2, W1, b1, W2, b2)\n",
    "test_prediction(3, W1, b1, W2, b2)\n"
   ]
  },
  {
   "cell_type": "code",
   "execution_count": 60,
   "id": "a812940b",
   "metadata": {},
   "outputs": [
    {
     "name": "stdout",
     "output_type": "stream",
     "text": [
      "[6 5 6 9 8 2 8 6 5 0 1 4 0 5 8 1 3 7 1 1 4 2 4 6 1 3 4 2 1 6 8 7 4 3 3 3 7\n",
      " 4 0 1 6 2 7 7 1 2 1 9 4 9 8 4 1 1 3 9 7 2 0 1 4 9 6 1 4 3 1 6 7 6 6 6 7 5\n",
      " 6 3 3 9 5 1 1 7 7 2 3 6 1 0 1 4 1 3 5 6 6 6 1 9 7 9 8 8 0 3 1 7 3 7 5 9 3\n",
      " 5 3 6 6 8 6 4 1 4 2 6 5 2 6 9 6 5 7 8 1 6 7 6 0 4 7 0 1 1 4 8 2 2 4 8 9 1\n",
      " 0 1 1 6 8 7 4 8 2 2 2 5 4 4 0 2 1 8 7 8 9 0 3 8 2 3 7 9 4 8 8 3 7 7 7 8 1\n",
      " 8 2 4 6 3 0 2 3 8 5 9 7 0 2 9 8 0 6 9 0 2 0 4 1 5 5 0 4 7 4 4 0 6 1 8 7 8\n",
      " 2 4 6 4 8 7 6 6 9 5 1 0 4 3 6 1 0 9 2 5 5 5 3 0 3 7 3 9 7 1 6 8 1 3 1 4 4\n",
      " 5 4 8 1 7 6 4 2 2 0 3 1 9 6 0 3 3 4 3 5 1 9 8 3 4 1 0 9 1 0 6 9 1 2 7 4 7\n",
      " 7 2 7 0 7 1 5 9 4 1 6 0 0 4 1 3 2 3 5 9 8 4 0 9 6 1 3 4 7 6 1 8 8 5 0 5 9\n",
      " 7 5 7 7 3 4 2 7 6 8 5 4 0 8 9 4 5 3 2 9 5 7 7 9 6 8 5 3 3 1 3 0 7 1 7 4 6\n",
      " 3 3 6 8 3 3 7 5 1 5 5 5 6 3 3 6 6 6 6 6 0 5 2 5 9 4 0 9 1 4 6 7 7 7 8 8 1\n",
      " 2 5 4 9 9 0 4 9 1 7 3 0 4 6 0 3 1 2 8 6 3 7 3 2 2 6 6 2 6 0 6 6 8 3 6 4 9\n",
      " 0 1 7 4 9 3 7 2 8 0 9 0 8 3 3 4 2 9 6 2 9 2 9 4 8 6 0 7 4 2 4 1 0 1 0 9 2\n",
      " 9 9 5 2 0 9 8 6 0 4 5 0 2 1 7 8 3 9 8 3 2 0 9 9 2 4 0 2 5 0 7 6 4 8 9 7 7\n",
      " 7 8 3 5 6 1 9 4 5 5 7 1 8 5 2 0 0 9 1 8 4 5 2 7 5 2 7 0 7 2 0 9 6 8 3 1 9\n",
      " 8 2 7 8 8 2 6 6 0 3 1 6 3 4 7 1 5 2 8 4 2 4 5 6 1 3 7 1 5 1 4 2 9 5 7 8 0\n",
      " 9 7 2 4 1 6 6 3 7 3 4 8 4 0 3 0 6 8 3 1 7 7 4 4 0 7 5 9 8 9 1 0 0 5 9 9 9\n",
      " 6 0 3 8 1 4 6 9 3 7 3 9 6 4 3 8 6 2 5 7 0 6 9 0 3 4 8 1 7 6 4 6 5 6 2 1 8\n",
      " 8 4 1 6 4 1 7 4 2 9 3 7 5 9 4 0 7 1 8 0 2 6 8 6 5 0 6 7 1 1 8 1 2 9 3 6 9\n",
      " 0 9 9 0 1 5 7 1 9 7 2 4 1 2 0 2 2 1 5 4 8 1 0 3 9 2 2 1 8 1 8 2 7 0 3 6 5\n",
      " 0 7 1 9 9 5 6 1 9 5 8 4 9 8 3 0 6 4 1 2 2 0 4 0 4 2 1 2 2 6 8 7 5 8 8 3 7\n",
      " 6 6 8 9 2 1 8 0 9 9 4 0 5 2 6 6 7 1 9 7 0 0 1 6 4 9 8 6 9 8 8 4 9 5 4 0 5\n",
      " 8 8 6 2 9 4 3 3 4 6 7 7 4 4 5 3 0 7 9 3 5 0 3 4 1 2 7 5 3 7 1 5 1 1 4 6 3\n",
      " 5 8 8 5 0 0 7 8 2 4 7 1 9 3 6 3 3 5 5 8 4 4 3 5 9 4 6 3 1 7 0 9 2 9 8 2 7\n",
      " 1 3 9 0 6 5 0 3 6 2 3 6 3 5 4 6 3 5 5 5 6 2 9 8 2 2 7 3 8 8 3 3 7 0 3 6 1\n",
      " 0 9 2 3 8 9 6 4 7 2 6 6 9 6 8 7 7 9 6 1 9 2 2 5 3 1 9 2 5 3 4 7 0 0 2 5 1\n",
      " 6 3 2 8 7 9 8 0 3 6 2 0 6 0 0 6 6 3 6 9 1 6 9 7 1 2 0 1 4 6 1 3 8 7 9 2 7\n",
      " 1] [6 5 6 7 8 2 8 6 8 0 1 4 0 5 8 1 3 7 1 1 4 2 4 6 1 3 4 2 1 6 8 7 4 3 3 3 7\n",
      " 4 0 1 6 2 7 2 1 2 1 9 4 9 5 4 1 1 3 9 7 2 0 1 4 9 6 1 4 3 1 6 7 6 6 6 7 5\n",
      " 6 3 3 9 5 1 9 7 7 2 3 6 4 0 1 4 1 3 5 6 6 6 1 9 7 9 8 8 0 3 1 7 3 7 5 9 8\n",
      " 5 3 0 6 8 6 4 7 4 2 6 5 2 6 9 6 5 7 8 1 6 7 6 0 4 7 6 1 1 4 2 2 2 4 8 4 1\n",
      " 0 4 1 6 5 7 4 8 2 2 0 6 4 9 0 2 1 8 7 8 9 0 2 4 6 3 7 9 4 8 8 3 9 7 7 8 1\n",
      " 8 2 9 6 3 0 2 3 8 5 3 7 0 2 9 8 0 6 9 0 2 0 4 1 5 5 0 4 7 4 4 0 6 1 8 7 8\n",
      " 2 4 6 4 8 7 3 5 9 5 1 0 4 3 6 1 0 9 2 8 5 5 3 2 3 7 3 9 7 1 6 8 1 8 1 4 7\n",
      " 3 4 8 1 7 6 4 2 2 0 3 1 9 6 0 3 3 4 3 5 1 9 4 3 4 1 0 9 1 0 6 7 1 6 7 4 7\n",
      " 7 2 7 0 7 1 5 9 4 1 6 0 0 4 6 3 2 3 5 2 8 4 0 4 6 1 3 4 7 6 1 8 9 5 0 0 9\n",
      " 7 5 7 7 1 2 2 7 6 8 5 4 0 8 9 4 5 3 2 9 5 7 7 9 6 8 5 3 3 1 3 0 7 1 7 4 6\n",
      " 3 3 6 8 3 3 7 5 1 5 5 5 6 3 3 6 6 6 6 6 0 5 2 5 9 4 2 9 8 4 6 7 9 7 8 8 1\n",
      " 2 5 4 9 9 0 4 9 1 7 3 0 7 6 0 3 1 2 2 6 3 7 3 2 2 6 6 2 6 0 6 6 8 3 6 4 9\n",
      " 0 1 7 4 4 3 7 2 5 6 9 3 8 3 2 4 2 9 6 2 9 2 9 4 8 6 0 7 4 2 2 1 0 1 0 9 2\n",
      " 9 9 5 2 0 9 8 5 0 4 0 0 2 1 7 8 3 9 8 3 7 0 7 9 3 4 6 2 5 0 7 6 4 8 4 7 7\n",
      " 7 8 3 1 6 1 9 4 5 5 9 1 8 5 2 0 5 8 1 8 4 5 2 7 5 2 9 0 7 7 0 7 6 8 3 1 9\n",
      " 8 2 7 8 8 2 6 6 0 3 1 6 3 4 7 1 5 2 9 4 2 4 5 6 1 3 7 1 5 1 4 2 9 5 7 8 0\n",
      " 9 7 2 4 1 6 6 3 7 3 4 2 4 0 3 0 6 8 3 1 9 7 4 4 0 7 5 3 8 9 1 0 0 5 9 2 7\n",
      " 6 0 3 8 1 4 6 9 3 7 3 9 6 4 3 8 6 3 9 7 0 6 9 0 3 4 8 1 7 6 9 6 5 6 8 1 8\n",
      " 8 5 1 6 4 1 7 4 2 9 3 7 5 9 4 0 7 1 8 0 2 2 8 6 6 0 6 7 1 1 8 1 2 9 3 4 9\n",
      " 0 9 9 0 1 5 7 1 9 7 2 4 1 2 0 2 2 1 5 4 8 1 0 3 9 9 2 1 8 2 5 2 7 0 3 6 5\n",
      " 0 7 8 9 9 5 6 1 9 5 8 4 9 8 3 0 6 4 1 2 2 0 4 0 4 2 1 2 3 6 8 7 5 4 8 3 7\n",
      " 6 6 8 9 2 1 8 0 9 9 4 0 5 2 6 6 0 1 9 7 0 0 1 6 4 9 8 6 9 8 3 4 9 3 4 0 9\n",
      " 8 8 6 2 9 9 3 3 4 6 4 7 4 4 5 5 0 7 9 3 5 0 8 4 1 2 7 5 0 7 1 5 1 1 9 6 3\n",
      " 5 9 5 5 0 0 7 8 2 4 7 1 9 3 6 3 3 5 5 1 9 4 3 5 9 4 6 3 1 7 0 3 2 9 8 2 7\n",
      " 1 3 9 0 6 5 0 3 6 2 3 6 5 5 4 6 3 6 5 5 6 2 9 8 2 2 7 3 4 6 3 3 7 0 5 6 1\n",
      " 0 9 2 3 9 9 6 4 7 2 6 6 9 5 8 7 7 9 6 1 9 2 2 5 9 1 9 2 5 3 4 7 0 0 2 3 1\n",
      " 6 3 2 8 7 9 8 0 9 6 2 0 6 0 0 6 6 1 5 9 1 6 9 7 1 2 0 1 4 6 7 3 8 7 9 2 7\n",
      " 1]\n"
     ]
    },
    {
     "data": {
      "text/plain": [
       "0.887"
      ]
     },
     "execution_count": 60,
     "metadata": {},
     "output_type": "execute_result"
    }
   ],
   "source": [
    "#The Cross-Validation set data test.\n",
    "dev_predictions = make_predictions(X_dev, W1, b1, W2, b2)\n",
    "get_accuracy(dev_predictions, Y_dev)"
   ]
  },
  {
   "cell_type": "markdown",
   "id": "11bf69b8",
   "metadata": {},
   "source": [
    "Still 88% accuracy, so our model generalized from the training data pretty well."
   ]
  },
  {
   "cell_type": "code",
   "execution_count": null,
   "id": "9356de00",
   "metadata": {},
   "outputs": [],
   "source": []
  }
 ],
 "metadata": {
  "kernelspec": {
   "display_name": "Python 3 (ipykernel)",
   "language": "python",
   "name": "python3"
  },
  "language_info": {
   "codemirror_mode": {
    "name": "ipython",
    "version": 3
   },
   "file_extension": ".py",
   "mimetype": "text/x-python",
   "name": "python",
   "nbconvert_exporter": "python",
   "pygments_lexer": "ipython3",
   "version": "3.10.9"
  }
 },
 "nbformat": 4,
 "nbformat_minor": 5
}
